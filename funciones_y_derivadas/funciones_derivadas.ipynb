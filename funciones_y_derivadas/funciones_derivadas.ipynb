{
 "cells": [
  {
   "cell_type": "markdown",
   "metadata": {},
   "source": [
    "# **Introducción al Cálculo: Funciones, derivadas y algo más**\n",
    "\n",
    "En este tutorial es una introducción al **Cálculo**, principalmente el concepto de derivadas, dando algunas definiciones claves del área y tratando de ir anticipando su relevancia en **Machine Learning** y **Deep Learning**. Asumiremos que no tienen un conocimiento del área pero si que estan minimamente familiarizados con los conceptos básicos de **función** y la mátematica necesaria de un curso de pregrado.\n",
    "\n",
    "¿Que **SÍ** busca esta clase?:\n",
    "\n",
    "* Construir una intuición de acerca de las funciones, las derivadas y las integrales en 1 y más variables\n",
    "* Brindar herramientas para su cálculo en Python\n",
    "* Familiarizarse y entender las diferencias entre las herramientas para calcular derivadas de manera simbólica y de manera numérica\n",
    "* Familiarizarse con la idea de integración numérica usando la suma de Riemann\n",
    "\n",
    "¿Qué **NO** busca esta clase?\n",
    "\n",
    "* Cubrir completamente derivadas ni todos los conceptos que se discuten en esta notebook. Para esto se necesitaría al menos uno o dos curso de Cálculo o Análisis Matemático\n",
    "\n",
    "Esta clase es una adaptación del precurso de la escuela de [Computational Neuroscience](https://compneuro.neuromatch.io/) de [Neuromatch Academy](https://academy.neuromatch.io/) y del material del libro [Hands-on Deep Learning with Scikit-Learn, Tensorflow and Keras](https://github.com/ageron/handson-ml2).\n",
    "\n",
    "Dejaremos algunas referencias generales al final para que puedan profundizar en cada uno de los temas según los conocimientos de cada uno/una de ustedes. También utilizaremos (*) en el nombre de las sección que son optitivas debido a que su uso en DL es bastante poco relevante."
   ]
  },
  {
   "cell_type": "markdown",
   "metadata": {},
   "source": [
    "---\n",
    "# Configuracion "
   ]
  },
  {
   "cell_type": "markdown",
   "metadata": {},
   "source": [
    "## Instalar dependencias"
   ]
  },
  {
   "cell_type": "code",
   "execution_count": 10,
   "metadata": {},
   "outputs": [],
   "source": [
    "#@title Imports\n",
    "\n",
    "import numpy as np\n",
    "import scipy.optimize as opt  # import root-finding algorithm\n",
    "import sympy as sp  # Python toolbox for symbolic maths\n",
    "import matplotlib.pyplot as plt\n",
    "from mpl_toolkits.mplot3d import Axes3D  # Toolbox for rendring 3D figures\n",
    "from mpl_toolkits import mplot3d  # Toolbox for rendring 3D figures"
   ]
  },
  {
   "cell_type": "markdown",
   "metadata": {},
   "source": [
    "## Configurar las figuras"
   ]
  },
  {
   "cell_type": "code",
   "execution_count": 11,
   "metadata": {},
   "outputs": [],
   "source": [
    "# @title Settings\n",
    "import ipywidgets as widgets  # interactive display\n",
    "from ipywidgets import interact\n",
    "#%config InlineBackend.figure_format = 'retina'\n",
    "import seaborn as sns\n",
    "import matplotlib as mpl\n",
    "import matplotlib.animation as animation\n",
    "mpl.rc('animation', html='jshtml')\n",
    "sns.set_theme(style='darkgrid')\n",
    "my_layout = widgets.Layout()\n",
    "\n",
    "fig_w, fig_h = 9, 6\n",
    "my_fontsize = 14\n",
    "my_params = {'axes.labelsize': my_fontsize,\n",
    "          'axes.titlesize': my_fontsize,\n",
    "          'figure.figsize': [fig_w, fig_h],\n",
    "          'font.size': my_fontsize,\n",
    "          'legend.fontsize': my_fontsize-2,\n",
    "          'lines.markersize': 8.,\n",
    "          'lines.linewidth': 2.,\n",
    "          'xtick.labelsize': my_fontsize-1,\n",
    "          'ytick.labelsize': my_fontsize-1}\n",
    "\n",
    "plt.rcParams.update(my_params)"
   ]
  },
  {
   "cell_type": "markdown",
   "metadata": {},
   "source": [
    "## Otras funciones"
   ]
  },
  {
   "cell_type": "code",
   "execution_count": 12,
   "metadata": {},
   "outputs": [],
   "source": [
    "# Funciones de figuras\n",
    "def move_sympyplot_to_axes(p, ax):\n",
    "    backend = p.backend(p)\n",
    "    backend.ax = ax\n",
    "    backend.process_series()\n",
    "    backend.ax.spines['right'].set_color('none')\n",
    "    backend.ax.spines['bottom'].set_position('zero')\n",
    "    backend.ax.spines['top'].set_color('none')\n",
    "    plt.close(backend.fig)\n",
    "\n",
    "\n",
    "def plot_functions(function, show_derivative, show_integral):\n",
    "\n",
    "  # For sympy we first define our symbolic variable\n",
    "  x, y, z, t, f = sp.symbols('x y z t f')\n",
    "\n",
    "  # We define our function\n",
    "  if function == 'Lineal':\n",
    "    f = -2*t\n",
    "    name = r'$-2t$'\n",
    "  elif function == 'Cuadrática':\n",
    "    f =  t**2\n",
    "    name = r'$t^2$'\n",
    "  elif function == 'Exponencial':\n",
    "    f =  sp.exp(t)\n",
    "    name = r'$e^t$'\n",
    "  elif function == 'Seno':\n",
    "    f =  sp.sin(t)\n",
    "    name = r'$sin(t)$'\n",
    "  elif function == 'Sigmoidea':\n",
    "    f = 1/(1 + sp.exp(-(t-5)))\n",
    "    name = r'$\\frac{1}{1+e^{-(t-5)}}$'\n",
    "\n",
    "  if show_derivative and not show_integral:\n",
    "    # Calculate the derivative of sin(t) as a function of t\n",
    "    diff_f = sp.diff(f)\n",
    "    print('Derivada de', f, 'es ', diff_f)\n",
    "\n",
    "    p1 = sp.plot(f, diff_f, show=False)\n",
    "    p1[0].line_color='r'\n",
    "    p1[1].line_color='b'\n",
    "    p1[0].label='Función'\n",
    "    p1[1].label='Derivada'\n",
    "    p1.legend=True\n",
    "    p1.title = 'Función = ' + name + '\\n'\n",
    "    p1.show()\n",
    "  elif show_integral and not show_derivative:\n",
    "\n",
    "    int_f = sp.integrate(f)\n",
    "    int_f = int_f - int_f.subs(t, -10)\n",
    "    print('Integral de ', f, 'es ', int_f)\n",
    "\n",
    "\n",
    "    p1 = sp.plot(f, int_f, show=False)\n",
    "    p1[0].line_color='r'\n",
    "    p1[1].line_color='g'\n",
    "    p1[0].label='Función'\n",
    "    p1[1].label='Integral'\n",
    "    p1.legend=True\n",
    "    p1.title = 'Función = ' + name + '\\n'\n",
    "    p1.show()\n",
    "\n",
    "\n",
    "  elif show_integral and show_derivative:\n",
    "\n",
    "    diff_f = sp.diff(f)\n",
    "    print('Derivada de', f, 'es ', diff_f)\n",
    "\n",
    "    int_f = sp.integrate(f)\n",
    "    int_f = int_f - int_f.subs(t, -10)\n",
    "    print('Integral de', f, 'es ', int_f)\n",
    "\n",
    "    p1 = sp.plot(f, diff_f, int_f, show=False)\n",
    "    p1[0].line_color='r'\n",
    "    p1[1].line_color='b'\n",
    "    p1[2].line_color='g'\n",
    "    p1[0].label='Function'\n",
    "    p1[1].label='Derivative'\n",
    "    p1[2].label='Integral'\n",
    "    p1.legend=True\n",
    "    p1.title = 'Function = ' + name + '\\n'\n",
    "    p1.show()\n",
    "\n",
    "  else:\n",
    "\n",
    "    p1 = sp.plot(f, show=False)\n",
    "    p1[0].line_color='r'\n",
    "    p1[0].label='Function'\n",
    "    p1.legend=True\n",
    "    p1.title = 'Function = ' + name + '\\n'\n",
    "    p1.show()\n",
    "\n",
    "\n",
    "def plot_alpha_func(t, f, df_dt):\n",
    "\n",
    "  plt.figure()\n",
    "  plt.subplot(2,1,1)\n",
    "  plt.plot(t, f, 'r', label='PSP')\n",
    "  plt.xlabel('')\n",
    "  plt.ylabel('Voltaje')\n",
    "  plt.legend()\n",
    "  \n",
    "\n",
    "  plt.subplot(2,1,2)\n",
    "  plt.plot(t, df_dt, 'b', label='Derivada del PSP')\n",
    "  #plt.title('Derivative of alpha function')\n",
    "  plt.xlabel('Tiempo')\n",
    "  plt.ylabel('df/dt')\n",
    "  plt.legend()\n",
    "\n",
    "\n",
    "def plot_charge_transfer(t, PSP, numerical_integral):\n",
    "\n",
    "  fig, axes = plt.subplots(1, 2)\n",
    "\n",
    "  axes[0].plot(t, PSP)\n",
    "  axes[0].set(xlabel = 't', ylabel = 'PSP')\n",
    "\n",
    "  axes[1].plot(t, numerical_integral)\n",
    "  axes[1].set(xlabel = 't', ylabel = 'Charge Transferred')\n",
    "\n",
    "# adapatada de hands-on\n",
    "def show(axis=\"equal\", ax=None, title=None, xlabel=\"$x$\", ylabel=\"$y$\"):\n",
    "    ax = ax or plt.gca()\n",
    "    ax.axis(axis)\n",
    "    #ax.grid()\n",
    "    ax.set_title(title, fontsize=14)\n",
    "    ax.set_xlabel(xlabel, fontsize=14)\n",
    "    ax.set_ylabel(ylabel, fontsize=14, rotation=0)\n",
    "    ax.axhline(y=0, color='k')\n",
    "    ax.axvline(x=0, color='k')"
   ]
  },
  {
   "cell_type": "markdown",
   "metadata": {},
   "source": [
    "---\n",
    "# 1 - ¿Que es el cáculo? Funciones, derivadas e integrales, una interpretación geométrica"
   ]
  },
  {
   "cell_type": "markdown",
   "metadata": {},
   "source": [
    "El cálculo es una parte de las matemáticas que se ocupa del **cambio continuo** de un objeto en particular que son las **funciones**, es decir que estudia que sucede con las distintas variaciones que tienen las funciones. Hay dos ramas del cálculo: cálculo diferencial y cálculo integral, y comenzaremos con una introducción al primero.\n",
    "\n",
    "Recordemos que una **función** $f$ en matemática es un tipo de relación entre dos conjuntos, el **dominio** y el **codominio**, en nuestro caso esos conjuntos serán los [números reales](https://es.wikipedia.org/wiki/N%C3%BAmero_real) denotado con $\\mathbb{R}$, pero pueden ser otros conjuntos. Para denotar de donde y hacia donde llega la función solemos escribir:\n",
    "\n",
    "\\begin{align}\n",
    "f: \\mathbb{R} &\\rightarrow \\mathbb{R}\\\\\n",
    "\\mathcal{x} &\\mapsto f(x)\n",
    "\\end{align}\n",
    "\n",
    "Esto quiere decir que $f$ toma como entrada un número real $x$ y devuelve otro número real reales como salida. Podemos hacer una analogía con una máquina que recibe una entrada y devuelve algo transformado. Sin embargo, no cualquier relación es un función sino que como requisito, **para cada valor de entrada, la función le asigna un único valor de salida**."
   ]
  },
  {
   "cell_type": "code",
   "execution_count": 13,
   "metadata": {},
   "outputs": [
    {
     "name": "stdout",
     "output_type": "stream",
     "text": [
      "7\n",
      "7\n"
     ]
    }
   ],
   "source": [
    "# ejemplos de función en python\n",
    "def mi_fun(x):\n",
    "  y = x**2 - 2\n",
    "  return y\n",
    "print(mi_fun(3))\n",
    "\n",
    "# no necesitamos necesariamente usar def para armar una función sino que podemos\n",
    "# usar funciones lambda o anónimas\n",
    "f = lambda x: x**2 -2\n",
    "print(f(3))"
   ]
  },
  {
   "cell_type": "markdown",
   "metadata": {},
   "source": [
    "La derivada de una funcion $f(x)$ es una nueva funcion que de alguna manera cauntifica como varia la funcion con respecto a su variable $t$. Existen muchas maneras de notar la derivada de $f$, en funciones de una variable de suele usar $f'(t)$ pero tambien (*disclaimer*: para facilitar esta explicacion asurimeros que esta derivada existe en todo el dominio de $f$ lo cual podria no suceder):\n",
    "\n",
    "\\begin{equation}\n",
    "\\partial_x f(x) = \\frac{d(f(x))}{dx} = \\frac{df}{dx} (x): \\mathbb{R} \\rightarrow \\mathbb{R}\n",
    "\\end{equation}\n",
    "\n",
    "Esta derivada captura que tan sensible es una funcion a cambios leves en la entrada para diferentes rangos de entradas. Geometricamente, la derivada de una funcion de una variable en cierta entrada ea la **pendiente** de una recta que es tangente a la funcion en la salida de esa funcion. Retomaremos esta idea en breve."
   ]
  },
  {
   "cell_type": "markdown",
   "metadata": {},
   "source": [
    "Por ejemplo, supongamos que condicimos un vehiculo y la distancia recorrida cambia continuamente con el tiempo representado por una funcion $f$. La derivada de la distancia recorrida con respecto al tiempo es la velocidad del vehiculo en cada punto del tiempo. La velocidad te dice la tasa de cambio de la distancia recorrida  en diferentes puntos en el tiempo.  Si tiene una velocidad lenta (una  pequeña derivada), la distancia recorrida no cambia mucho por pequeños cambios en el tiempo. Una velocidad alta (derivada grande) significa que la distancia recorrida cambia mucho para pequeños cambios en el tiempo.\n",
    "El signo de la derivada de una funcion indica si es decreciente o creciente. Para una funcion que cambia en funcion del tiempo, la derivada se vuelve cero cuando la funcion cambia su direccion de cambio (por ejemplo, de creciente a decreciente). Es decir, a valores minimos o maximos locales, la pendiente de la funcion sera cero. Esta propiedad se utiliza en problemas de optimizacion. Pero tambien podemos usarlo para encontrar picos en una señal. "
   ]
  },
  {
   "cell_type": "markdown",
   "metadata": {},
   "source": [
    "---\n",
    "# 2 - Derivación analítica y numérica en 1D"
   ]
  },
  {
   "cell_type": "markdown",
   "metadata": {},
   "source": [
    "## 2.0 - La derivada y el cociente incremental"
   ]
  },
  {
   "cell_type": "markdown",
   "metadata": {},
   "source": [
    "La idea detras de la derivada es cuantificar de alguna manera  las variaciones de la funcion. Queremos ver como es la **pendiente** de la funcion, que tan inclinada es la curva que genera la funcion.     t   omemos como ejemplo la funcion $f(x)=x^2$."
   ]
  },
  {
   "cell_type": "code",
   "execution_count": 14,
   "metadata": {},
   "outputs": [
    {
     "data": {
      "image/png": "[encoded data removed]",
      "text/plain": [
       "<Figure size 900x600 with 1 Axes>"
      ]
     },
     "metadata": {},
     "output_type": "display_data"
    }
   ],
   "source": [
    "#@title\n",
    "xs = np.linspace(-2.1, 2.1, 500)\n",
    "ys = xs**2\n",
    "plt.plot(xs, ys)\n",
    "\n",
    "plt.plot([0, 0], [0, 3], \"k--\")\n",
    "#plt.arrow(-1.4, 2.5, 0.5, -1.3, head_width=0.1,color='b')\n",
    "#plt.arrow(0.85, 1.05, 0.5, 1.3, head_width=0.1,color='b')\n",
    "\n",
    "show([-2.1, 2.1, 0, 2.8], title=\"$f(x) = x^2$\")"
   ]
  },
  {
   "cell_type": "markdown",
   "metadata": {},
   "source": [
    "Si queremos estudiar el crecimiento/decrecimiento de la funcion en un puntop A en el grafico de la funcion con  coordenadas $(x, f(x))$, Podemos mirar  una  *recta que sea tangente  al grafico en ese punto A**. Recordemos que la **Pendiente A**. de una recta nos da informacion acerca de si la recta crece o decrece.\n",
    "\n",
    "La pendiente de una recta (no vertical) se puede calcular tomando dos puntos cualquiera $\\mathrm{A}$ y $\\mathrm{B}$ en la linea y calculando el **cociente incremental**, es decir el cociente entre la variacion en el eje $x$ ($\\Delta x$) y la variación en el eje $y$ ($\\Delta y$):  \n",
    "\n",
    "$pendiente = \\dfrac{\\Delta y}{\\Delta x} = \\dfrac{y_\\mathrm{B} - y_\\mathrm{A}}{x_\\mathrm{B} - x_\\mathrm{A}} = \\dfrac{f(x_\\mathrm{B}) - f(x_\\mathrm{B})}{x_\\mathrm{B} - x_\\mathrm{A}}$"
   ]
  },
  {
   "cell_type": "code",
   "execution_count": 15,
   "metadata": {},
   "outputs": [
    {
     "data": {
      "text/plain": [
       "'def get_AB_line(A_pos, B_pos, x_min=-1000, x_max=+1000):\\n    rise = B_pos[1] - A_pos[1]\\n    run = B_pos[0] - A_pos[0]\\n    slope = rise / run\\n    offset = A_pos[1] - slope * A_pos[0]\\n    return [x_min, x_max], [x_min * slope + offset, x_max * slope + offset]\\n\\ndef plot_AB_line(A_pos, B_pos, A_name=\"A\", B_name=\"B\"):\\n    for point, name in ((A_pos, A_name), (B_pos, B_name)):\\n        plt.plot(point[0], point[1], \"bo\")\\n        plt.text(point[0] - 0.35, point[1], name, fontsize=14)\\n    xs, ys = get_AB_line(A_pos, B_pos)\\n    plt.plot(xs, ys)\\n\\ndef plot_rise_over_run(A_pos, B_pos):\\n    plt.plot([A_pos[0], B_pos[0]], [A_pos[1], A_pos[1]], \"k--\")\\n    plt.text((A_pos[0] + B_pos[0]) / 2, A_pos[1] - 0.4, \"run\", fontsize=14)\\n    plt.plot([B_pos[0], B_pos[0]], [A_pos[1], B_pos[1]], \"k--\")\\n    plt.text(B_pos[0] + 0.2, (A_pos[1] + B_pos[1]) / 2, \"rise\", fontsize=14)\\n\\ndef animate_AB_line(f, fp, f_str, x_A, axis=None):\\n    y_A = f(x_A)\\n    eps = 1e-4\\n    x_B_range = 1.5\\n    x_B = x_A + eps\\n\\n    n_frames = 200\\n    text_offset_A = -0.2\\n    text_offset_B = +0.1\\n    x_min, x_max = -1000, 1000\\n\\n    fig, ax = plt.subplots()\\n\\n    # plot f(x)\\n    xs = np.linspace(-2.1, 2.1, 500)\\n    ys = f(xs)\\n    ax.plot(xs, ys)\\n\\n    # plot the tangent to the curve at point A\\n    if fp:\\n        slope = fp(x_A)\\n        offset = y_A - slope * x_A\\n        ax.plot([x_min, x_max], [slope*x_min + offset, slope*x_max + offset],\\n                \"y--\")\\n\\n    # plot the line AB and the labels A and B so they can be animated\\n    y_A = f(x_A)\\n    y_B = f(x_B)\\n    xs, ys = get_AB_line([x_A, y_A], [x_B, y_B])\\n    line_inf, = ax.plot(xs, ys, \"-\")\\n    line_AB, = ax.plot([x_A, x_B], [y_A, y_B], \"bo-\")\\n    ax.text(x_A + text_offset_A, y_A, \"A\", fontsize=14)\\n    B_text = ax.text(x_B + text_offset_B, y_B, \"B\", fontsize=14)\\n\\n    # plot the grid and axis labels\\n    title = r\"Pendiente de la curva $y = {}$ en $x_\\\\mathrm{{A}} = {}$\".format(f_str, x_A)\\n    show(axis or [-2.1, 2.1, 0, 2.8], title=title)\\n\\n    def update_graph(i):\\n        x_B = x_A + x_B_range * np.cos(i * 2 * np.pi / n_frames) ** 3\\n        if np.abs(x_B - x_A) < eps:\\n            x_B = x_A + eps # to avoid division by 0\\n        y_B = f(x_B)\\n        xs, ys = get_AB_line([x_A, y_A], [x_B, y_B])\\n        line_inf.set_data(xs, ys)\\n        line_AB.set_data([x_A, x_B], [y_A, y_B])\\n        B_text.set_position([x_B + text_offset_B, y_B])\\n        return line_inf, line_AB\\n\\n    anim = animation.FuncAnimation(fig, update_graph,\\n                                  init_func=lambda: update_graph(0),\\n                                  frames=n_frames,\\n                                  interval=20,\\n                                  blit=True)\\n    plt.close()\\n    return anim\\n\\nanimate_AB_line(lambda x: x**2, lambda x: 2*x, \"x^2\", -1)'"
      ]
     },
     "execution_count": 15,
     "metadata": {},
     "output_type": "execute_result"
    }
   ],
   "source": [
    "#@title Ejemplo con la función cuadrática\n",
    "'''def get_AB_line(A_pos, B_pos, x_min=-1000, x_max=+1000):\n",
    "    rise = B_pos[1] - A_pos[1]\n",
    "    run = B_pos[0] - A_pos[0]\n",
    "    slope = rise / run\n",
    "    offset = A_pos[1] - slope * A_pos[0]\n",
    "    return [x_min, x_max], [x_min * slope + offset, x_max * slope + offset]\n",
    "\n",
    "def plot_AB_line(A_pos, B_pos, A_name=\"A\", B_name=\"B\"):\n",
    "    for point, name in ((A_pos, A_name), (B_pos, B_name)):\n",
    "        plt.plot(point[0], point[1], \"bo\")\n",
    "        plt.text(point[0] - 0.35, point[1], name, fontsize=14)\n",
    "    xs, ys = get_AB_line(A_pos, B_pos)\n",
    "    plt.plot(xs, ys)\n",
    "\n",
    "def plot_rise_over_run(A_pos, B_pos):\n",
    "    plt.plot([A_pos[0], B_pos[0]], [A_pos[1], A_pos[1]], \"k--\")\n",
    "    plt.text((A_pos[0] + B_pos[0]) / 2, A_pos[1] - 0.4, \"run\", fontsize=14)\n",
    "    plt.plot([B_pos[0], B_pos[0]], [A_pos[1], B_pos[1]], \"k--\")\n",
    "    plt.text(B_pos[0] + 0.2, (A_pos[1] + B_pos[1]) / 2, \"rise\", fontsize=14)\n",
    "\n",
    "def animate_AB_line(f, fp, f_str, x_A, axis=None):\n",
    "    y_A = f(x_A)\n",
    "    eps = 1e-4\n",
    "    x_B_range = 1.5\n",
    "    x_B = x_A + eps\n",
    "\n",
    "    n_frames = 200\n",
    "    text_offset_A = -0.2\n",
    "    text_offset_B = +0.1\n",
    "    x_min, x_max = -1000, 1000\n",
    "\n",
    "    fig, ax = plt.subplots()\n",
    "\n",
    "    # plot f(x)\n",
    "    xs = np.linspace(-2.1, 2.1, 500)\n",
    "    ys = f(xs)\n",
    "    ax.plot(xs, ys)\n",
    "\n",
    "    # plot the tangent to the curve at point A\n",
    "    if fp:\n",
    "        slope = fp(x_A)\n",
    "        offset = y_A - slope * x_A\n",
    "        ax.plot([x_min, x_max], [slope*x_min + offset, slope*x_max + offset],\n",
    "                \"y--\")\n",
    "\n",
    "    # plot the line AB and the labels A and B so they can be animated\n",
    "    y_A = f(x_A)\n",
    "    y_B = f(x_B)\n",
    "    xs, ys = get_AB_line([x_A, y_A], [x_B, y_B])\n",
    "    line_inf, = ax.plot(xs, ys, \"-\")\n",
    "    line_AB, = ax.plot([x_A, x_B], [y_A, y_B], \"bo-\")\n",
    "    ax.text(x_A + text_offset_A, y_A, \"A\", fontsize=14)\n",
    "    B_text = ax.text(x_B + text_offset_B, y_B, \"B\", fontsize=14)\n",
    "\n",
    "    # plot the grid and axis labels\n",
    "    title = r\"Pendiente de la curva $y = {}$ en $x_\\mathrm{{A}} = {}$\".format(f_str, x_A)\n",
    "    show(axis or [-2.1, 2.1, 0, 2.8], title=title)\n",
    "\n",
    "    def update_graph(i):\n",
    "        x_B = x_A + x_B_range * np.cos(i * 2 * np.pi / n_frames) ** 3\n",
    "        if np.abs(x_B - x_A) < eps:\n",
    "            x_B = x_A + eps # to avoid division by 0\n",
    "        y_B = f(x_B)\n",
    "        xs, ys = get_AB_line([x_A, y_A], [x_B, y_B])\n",
    "        line_inf.set_data(xs, ys)\n",
    "        line_AB.set_data([x_A, x_B], [y_A, y_B])\n",
    "        B_text.set_position([x_B + text_offset_B, y_B])\n",
    "        return line_inf, line_AB\n",
    "\n",
    "    anim = animation.FuncAnimation(fig, update_graph,\n",
    "                                  init_func=lambda: update_graph(0),\n",
    "                                  frames=n_frames,\n",
    "                                  interval=20,\n",
    "                                  blit=True)\n",
    "    plt.close()\n",
    "    return anim\n",
    "\n",
    "animate_AB_line(lambda x: x**2, lambda x: 2*x, \"x^2\", -1)'''\n",
    "# Descomentar las ''' para correr las funciones  "
   ]
  },
  {
   "cell_type": "markdown",
   "metadata": {},
   "source": [
    "Esto nos lleva a una definición formal de la derivada $f'(x_\\mathrm{A})$ como el límite de este **cociente incremental** cuando hacemos que el punto $x_\\mathrm{B} \\rightarrow x_\\mathrm{A}$\n",
    "<hr />\n",
    "\n",
    "La **derivada** de una función $f(x)$ en $x = x_\\mathrm{A}$ esta definida como:\n",
    "\n",
    "\\begin{equation}\n",
    "\\partial_x f(x_\\mathrm{A}) = \\underset{x_\\mathrm{B} \\to x_\\mathrm{A}}\\lim\\dfrac{f(x_\\mathrm{B}) - f(x_\\mathrm{A})}{x_\\mathrm{B} - x_\\mathrm{A}}\n",
    "\\end{equation}\n",
    "\n",
    "Podemos a su vez, reescribirla de la siguiente manera:\n",
    "\n",
    "\\begin{equation}\n",
    "\\partial_x f(x_\\mathrm{A}) = \\underset{h \\to 0}\\lim\\dfrac{f(x_\\mathrm{A}+h) - f(x_\\mathrm{A})}{h}\n",
    "\\end{equation}\n",
    "\n",
    "<hr />"
   ]
  },
  {
   "cell_type": "code",
   "execution_count": 16,
   "metadata": {},
   "outputs": [
    {
     "data": {
      "image/png": "[encoded data removed]",
      "text/plain": [
       "<Figure size 900x600 with 1 Axes>"
      ]
     },
     "metadata": {},
     "output_type": "display_data"
    }
   ],
   "source": [
    "#@title\n",
    "xs = np.linspace(-2.1, 2.1, 500)\n",
    "ys = xs**2\n",
    "plt.plot(xs, ys)\n",
    "\n",
    "plt.plot([0, 0], [0, 3], \"k--\")\n",
    "plt.arrow(-1.4, 2.5, 0.5, -1.3, head_width=0.1,color='b')\n",
    "plt.arrow(0.85, 1.05, 0.5, 1.3, head_width=0.1,color='b')\n",
    "show([-2.1, 2.1, 0, 2.8], title=\"Pendiente de la función $f(x) = x^2$\")"
   ]
  },
  {
   "cell_type": "markdown",
   "metadata": {},
   "source": [
    "Volvamos al ejemplo de $f(x)=x^2$. ¿Que esperariamos que suceda con la derivada de f en otros puntos?: \n",
    "\n",
    "- a la izquierda del eje $y$ (es decir, cuando $x<0$), la pendiente es negativa (es decir, cuando nos movemos de izquierda a derecha, la curva desciende), \n",
    "- a la derecha del eje $y$ (es decir, cuando $x>0$) la pendiente es positiva (es decir, cuando nos movemos de izquierda a derecha, la curva sube)\n",
    "- en el punto $x=0$, la pendiente es igual a 0 (es decir, la curva es localmente plana)\n",
    "\n",
    "El hecho de que la pendiente sea 0 cuando alcanzamos un mínimo (o incluso un máximo) es de crucial importancia para  entender como encontrar puntos los minimos/máximos de una función. Esto último será también muy relevante en el futuro para entender como se *entrenan* los modelos en Machine Learning y Deep Learning.\n",
    "\n",
    "En el siguiente widget pueden ver de nuevo el gráfico de la función cuadrática y junto a su función derivada y probar con otras funciones con sus respectivas derivadas."
   ]
  },
  {
   "cell_type": "code",
   "execution_count": 17,
   "metadata": {},
   "outputs": [
    {
     "data": {
      "application/vnd.jupyter.widget-view+json": {
       "model_id": "b5a9a9e4eb964eba9cc8f3279c823517",
       "version_major": 2,
       "version_minor": 0
      },
      "text/plain": [
       "interactive(children=(Dropdown(description='Función', options=('Cuadrática', 'Lineal', 'Seno', 'Explonencial',…"
      ]
     },
     "metadata": {},
     "output_type": "display_data"
    }
   ],
   "source": [
    "# @markdown Widget para visualizar una función y su derivada\n",
    "function_options = widgets.Dropdown(\n",
    "    options=['Cuadrática', 'Lineal', 'Seno', 'Explonencial', 'Sigmoidea'],\n",
    "    description='Función',\n",
    "    disabled=False,\n",
    ")\n",
    "\n",
    "derivative = widgets.Checkbox(\n",
    "    value=False,\n",
    "    description='Ver derivada',\n",
    "    disabled=False,\n",
    "    indent=False\n",
    ")\n",
    "\n",
    "integral = widgets.Checkbox(\n",
    "    value=False,\n",
    "    description='Ver primitiva',\n",
    "    disabled=True,\n",
    "    indent=False\n",
    ")\n",
    "\n",
    "def on_value_change(change):\n",
    "    derivative.value = False\n",
    "    integral.value = False\n",
    "\n",
    "function_options.observe(on_value_change, names='value')\n",
    "\n",
    "#interact(plot_functions, function = function_options, \n",
    "# show_derivative = derivative, show_integral = integral);\n",
    "interact(plot_functions, function = function_options, show_derivative = derivative,\n",
    "         show_integral = integral);"
   ]
  },
  {
   "cell_type": "markdown",
   "metadata": {},
   "source": [
    "**¿Todas las funciones pueden ser derivadas?** Lamentablemente no todas las funciones pueden ser derivadas. Existen condiciones para determinar si una función es derivable o no. Un ejemplo es la función $f(x)=|x|$, esta función no tiene derivada en $x=0$ ya que no existe el límite ahí. En general las funciones que tienen derivadas en todo su dominio se dicen que son funciones **derivables**, **suaves** o de clase $\\mathcal{C}^1$ si además esa derivada es continua. No entraremos mas en detalle en estas condiciones pero dejaremos una referencias para profundizar en el tema.\n"
   ]
  },
  {
   "cell_type": "markdown",
   "metadata": {},
   "source": [
    "---\n",
    "## 2.1 - Derivación analítica\n",
    "\n",
    "Cuando calculamos la derivada analíticamente, estamos encontrando la fórmula exacta para la función derivada. Para hacer esto, en lugar de tener que tener que calcular el cociente incremental cada vez, podemos utilizar las distintas propiedades de la derivada en combinación con derivadas que ya conocemos, a menudo podemos consultar [una tabla](https://en.wikipedia.org/wiki/Differentiation_rules) para obtener una lista de derivadas comunes, en este caso nuestro amigo de confianza Wikipedia. Aca les dejamos una tabla con derivadas que incluye las reglas que estaremos viendo mas adelante.\n",
    "\n",
    "|                  | Función $f$ &nbsp; &nbsp; &nbsp; &nbsp; &nbsp; &nbsp; &nbsp; &nbsp; &nbsp; &nbsp; &nbsp; &nbsp; &nbsp; &nbsp; | Derivada $f'$ &nbsp; &nbsp; &nbsp; &nbsp; &nbsp; &nbsp; &nbsp; &nbsp; &nbsp; &nbsp; &nbsp; &nbsp; &nbsp; &nbsp; &nbsp; &nbsp; &nbsp; &nbsp; &nbsp; &nbsp; &nbsp; &nbsp; &nbsp; &nbsp; &nbsp; |\n",
    "| ---------------- |------------------- | ------------------------------- |\n",
    "| **Constante**     | $f(x) = c$         | $f'(x) = 0$                     |\n",
    "| **Suma**          | $f(x) = g(x) + h(x)$ | $f'(x) = g'(x) + h'(x)$       |\n",
    "| **Producto**      | $f(x) = g(x) h(x)$ | $f'(x) = g(x)h'(x) + g'(x)h(x)$ |\n",
    "| **Cociente**     | $f(x) = \\dfrac{g(x)}{h(x)}$ | $f'(x) = \\dfrac{g'(x)h(x) - g(x)h'(x)}{h^2(x)}$ |\n",
    "| **Potencia**        | $f(x) = x^r$ con $r \\neq 0$ | $f'(x) = rx^{r-1}$    |\n",
    "| **Exponencial**  | $f(x) = \\exp(x)$   | $f'(x)=\\exp(x)$                 |\n",
    "| **Logaritmo**    | $f(x) = \\ln(x)$    | $f'(x) = \\dfrac{1}{x} $         |\n",
    "| **Seno**          | $f(x) = \\sin(x)$   | $f'(x) = \\cos(x) $              |\n",
    "| **Coseno**          | $f(x) = \\cos(x)$   | $f'(x) = -\\sin(x) $             |\n",
    "| **Tangente**          | $f(x) = \\tan(x)$   | $f'(x) = \\dfrac{1}{\\cos^2(x)}$  |\n",
    "| **R. de la Cadena**   | $f(x) = g(h(x))$ | $f'(x) = g'(h(x))\\,h'(x)$  |\n",
    "\n",
    "\n",
    "Por ejemplo, si quisieramos encontrar la derivada de $f(x) = x^3$, podrías consultar ese sitio (o cualquier tabla de derivadas) y encontrar en la Sección 2.1, que si $f$ es una función que tiene la forma de $f(x) = x^n$ para algún valor $n$, entonces $\\frac{df}{dx}(x) = nx^{n-1}$. Entonces pueden llegar a calcular la derivada de $f(x) = x^3$ que es $\\frac{df}{dx}(x) = 3x^{2}$.\n",
    "\n",
    "Esta lista de derivadas comunes a menudo contiene solo funciones muy simples. Afortunadamente, como veremos en las próximas dos secciones, a menudo podemos descomponer la derivada de una función compleja en derivadas de componentes más simples."
   ]
  },
  {
   "cell_type": "markdown",
   "metadata": {},
   "source": [
    "---\n",
    "### 2.1.0 - Linearidad de la derivada"
   ]
  },
  {
   "cell_type": "markdown",
   "metadata": {},
   "source": [
    "La derivada tiene la propiedad de ser un **operador lineal**. Esto implica que si queremos derivar una suma de funciones (asumamos que existen las derivadas de las funciones $f$ y $g$) y estan multiplicadas por constantes $\\alpha, \\beta \\in \\mathbb{R}$, entonces:\n",
    "\n",
    "\\begin{equation}\n",
    "\\frac{d}{dx} (\\alpha\\cdot f(x) + \\beta\\cdot g(x)) = \\alpha\\cdot \\frac{df}{dx}(x)  + \\beta\\cdot \\frac{dg}{dx}(x)\n",
    "\\end{equation}\n",
    "\n",
    "Por ejemplo, supongamos que queremos derivar la función $f(x)=\\dfrac{1}{4}x^4 - x^2 + \\dfrac{1}{2}$. \n",
    "\n",
    "Usando la linearidad de la derivada y la tabla podemos calcularla:\n",
    "\n",
    "\\begin{align}\n",
    "\\frac{d}{dx}f(x) &= \\frac{d}{dx}\\bigg(\\dfrac{1}{4}x^4 - x^2 + \\dfrac{1}{2}\\bigg)\\\\\n",
    "&= \\dfrac{1}{4} \\frac{d}{dx}\\bigg(x^4 \\bigg)- \\frac{d}{dx}\\bigg( x^2 \\bigg)+ \\frac{d}{dx} \\bigg(\\dfrac{1}{2}\\bigg)\n",
    "\\\\\n",
    "&= \\dfrac{1}{4} 4x^3- 2x + 0\n",
    "\\\\\n",
    "&= x^3- 2x\n",
    "\\end{align}"
   ]
  },
  {
   "cell_type": "markdown",
   "metadata": {},
   "source": [
    "---\n",
    "### 2.1.1 - Regla del producto\n",
    "Para el caso en el que $f$ es una función que es producto de otras dos funciones: $f(x) = u(x)\\cdot v(x)$, entonces podemos calcular $\\frac{df}{dx}$ como:\n",
    "\n",
    "\\begin{equation}\n",
    "\\frac{df}{dx}(x) = v(x)\\cdot \\frac{du}{dx}(x) + u(x)\\cdot \\frac{dv}{dx}(x)\n",
    "\\end{equation}"
   ]
  },
  {
   "cell_type": "markdown",
   "metadata": {},
   "source": [
    "#### Ejericicio de programación 2.1.1\n",
    "\n",
    "Veamos un ejemplo aplicado a una funcion del mundo real. Usemos la regla del producto para obtener la derivada de la [función alfa del potencial postsináptico](https://es.wikipedia.org/wiki/Potencial_postsin%C3%A1ptico). Esta funcion mide como se polariza la membrana de las neurona durante la interaccino de la [sinapsis](https://es.wikipedia.org/wiki/Sinapsis). La forma del potencial postsináptico viene dada por la llamada función alfa que depende del tiempo:\n",
    "\n",
    "\\begin{equation}\n",
    "f(t) = t \\cdot \\text{exp}\\left( -\\frac{t}{\\tau} \\right)\n",
    "\\end{equation}\n",
    "\n",
    "Aquí $f(t)$ es un producto de $t$ y $\\text{exp} \\left(-\\frac{t}{\\tau} \\right)$. Entonces podemos tener $u(t) = t$ y $v(t) = \\text{exp} \\left( -\\frac{t}{\\tau} \\right)$ y usar la regla del producto.\n",
    "\n",
    "Hemos definido $u(t)$ y $v(t)$ en el siguiente código, en términos de la variable $t$, que es un `array` de pasos de tiempo de 0 a 10. Defina $\\frac{du}{dt }$ y $\\frac{dv}{dt}$, calculan la derivada completa de la función alfa usando la regla del producto.\n",
    "\n",
    "*Sugerencia*\n",
    "\n",
    "$\\dfrac{d}{dx}\\text{exp}(k\\cdot x) = k \\cdot \\text{exp}(k\\cdot x)$  "
   ]
  },
  {
   "cell_type": "code",
   "execution_count": 18,
   "metadata": {},
   "outputs": [
    {
     "ename": "NotImplementedError",
     "evalue": "Calculen las derivadas",
     "output_type": "error",
     "traceback": [
      "\u001b[1;31m---------------------------------------------------------------------------\u001b[0m",
      "\u001b[1;31mNotImplementedError\u001b[0m                       Traceback (most recent call last)",
      "Cell \u001b[1;32mIn[18], line 4\u001b[0m\n\u001b[0;32m      1\u001b[0m \u001b[38;5;66;03m########################################################################\u001b[39;00m\n\u001b[0;32m      2\u001b[0m \u001b[38;5;66;03m## TODO\u001b[39;00m\n\u001b[0;32m      3\u001b[0m \u001b[38;5;66;03m## completar los ... abajo y eliminar la linea que sigue\u001b[39;00m\n\u001b[1;32m----> 4\u001b[0m \u001b[38;5;28;01mraise\u001b[39;00m \u001b[38;5;167;01mNotImplementedError\u001b[39;00m(\u001b[38;5;124m\"\u001b[39m\u001b[38;5;124mCalculen las derivadas\u001b[39m\u001b[38;5;124m\"\u001b[39m)\n\u001b[0;32m      5\u001b[0m \u001b[38;5;66;03m########################################################################\u001b[39;00m\n\u001b[0;32m      6\u001b[0m \n\u001b[0;32m      7\u001b[0m \u001b[38;5;66;03m# creamos una grilla de valores a evaluar con un tau constante\u001b[39;00m\n\u001b[0;32m      8\u001b[0m t \u001b[38;5;241m=\u001b[39m np\u001b[38;5;241m.\u001b[39marange(\u001b[38;5;241m0\u001b[39m, \u001b[38;5;241m10\u001b[39m, \u001b[38;5;241m.1\u001b[39m)\n",
      "\u001b[1;31mNotImplementedError\u001b[0m: Calculen las derivadas"
     ]
    }
   ],
   "source": [
    "########################################################################\n",
    "## TODO\n",
    "## completar los ... abajo y eliminar la linea que sigue\n",
    "raise NotImplementedError(\"Calculen las derivadas\")\n",
    "########################################################################\n",
    "\n",
    "# creamos una grilla de valores a evaluar con un tau constante\n",
    "t = np.arange(0, 10, .1)\n",
    "tau = 0.5\n",
    "\n",
    "# calculamos la función sobre la grilla\n",
    "f = t * np.exp(-t/tau)\n",
    "\n",
    "# definimos las funciones u(t), v(t)\n",
    "u_t = t\n",
    "v_t = np.exp(-t/tau)\n",
    "\n",
    "# definimos las derivadas de cada función du/dt, dv/dt\n",
    "du_dt = ...\n",
    "dv_dt = ...\n",
    "\n",
    "\n",
    "# definimos la derivada completa\n",
    "df_dt = ...\n",
    "\n",
    "# Visualiza\n",
    "plot_alpha_func(t, f, df_dt)"
   ]
  },
  {
   "cell_type": "markdown",
   "metadata": {},
   "source": [
    "---\n",
    "### 2.1.2 - Regla de la cadena\n",
    "\n",
    "Muchas veces nos encontramos con situaciones en las que la variable $x$ cambia con otra variable, por ejemplo el tiempo ($t$), y afecta a nuestra función $f$. ¿Cómo podemos estimar la derivada de $f$ con respecto a $t$, es decir, $\\frac{df}{dt} = ?$ \n",
    "\n",
    "Para calcular $\\frac{df}{dt}$ podemos usar la [Regla de la Cadena](https://es.wikipedia.org/wiki/Regla_de_la_cadena). Esta regla nos dice como podemos calcular la derivada de una función que $h$ que es el resultado de **componer dos funciones** $f$ y $g$: $h(x)=(f \\circ g) (x) = f(g(x))$, entonces la derivada de $h$ respecto de $x$ es:\n",
    "\n",
    "\\begin{equation}\n",
    "\\frac{dh}{dx}(x) = \\frac{d(f \\circ g)}{dx}(x) = \\frac{df}{dg}(g)\\cdot\\frac{dg}{dx}(x)\n",
    "\\end{equation}\n",
    "\n",
    "En nuestro pequeño ejemplo del principio tenemos que $f$ era una función que depende de $x$ que a su vez depende de $t$, por lo tanto si quieramos \n",
    "\n",
    "\\begin{equation}\n",
    "\\frac{df}{dt} = \\frac{df}{dx}\\cdot\\frac{dx}{dt}\n",
    "\\end{equation}\n",
    "\n",
    "Un ejemplo muy sencillo sería el siguiente:\n",
    "\n",
    "$u(t)= \\text{exp}(-3\\cdot t)$\n",
    "\n",
    "Para poder derivar nuestra función $u$ tenemos que ser capaces de escribirlo como una composición de funciones (una funcion adentro de la otra). Lo mas sencillo sería pensar que lo que esta adentro de la exponencial es una función y la exponencial es otra:\n",
    "\n",
    "$f(x) = \\text{exp}(x) \\text{     y     } g(x)=-3\\cdot x$\n",
    "\n",
    "Por lo tanto podemos escribir a $u(t) = f(g(t)) = (f\\circ g)(t)$ y usar la regla de la cadena para obtener la derivada"
   ]
  },
  {
   "cell_type": "markdown",
   "metadata": {},
   "source": [
    "#### Ejercicio teórico 2.1.2\n",
    "\n",
    "Supongamos que tenemos la siguiente función\n",
    "\n",
    "\\begin{equation}\n",
    "r(a) = e^{a^4 + 1}\n",
    "\\end{equation}\n",
    "\n",
    "¿Cuanto da $\\frac{dr}{da}$? Esta es una función más compleja por lo que no podemos simplemente consultar una tabla de derivadas comunes. ¿Puedes usar la regla de la cadena para ayudar?\n",
    "\n",
    "**Sugerencia:** La idea para usar la regla de la cadena es encontrar una función intermedia para llevarlo a la forma en la que aparece la regla."
   ]
  },
  {
   "cell_type": "markdown",
   "metadata": {},
   "source": [
    "**Bonus** En general hay una regla de derivación mas que se suele enseñar en conjunto a las dos recién vistas, la regla de la división para derivadas."
   ]
  },
  {
   "cell_type": "markdown",
   "metadata": {},
   "source": [
    "---\n",
    "### 2.2.3 - Derivadas de orden superior"
   ]
  },
  {
   "cell_type": "markdown",
   "metadata": {},
   "source": [
    "Como la función derivada es nuevamente una función, podríamos querer derivarla nuevamente para entender como es que ahora varía la derivada. Esto se conoce como la **segunda derivada** o derivada de **segundo orden** y lo escribiremos asi:\n",
    "\n",
    "\\begin{equation}\n",
    "\\dfrac{d}{dx} \\bigg(\\dfrac{df}{dx}\\bigg) = \\dfrac{d^2f}{dx^2} = f'' \n",
    "\\end{equation}\n",
    "\n",
    "Estas derivadas pueden volver a ser derivadas tantas veces como sea posible, por lo cual tenemos derivadas de otros ordenes: $\\dfrac{d}{dx} \\dfrac{d}{dx} \\bigg(\\dfrac{df}{dx}\\bigg) = \\dfrac{d^3f}{dx^3}$ y asi sucesivamente. Estas derivadas se suelen conocer como derivadas de **orden superior** o derivadas **sucesivas**."
   ]
  },
  {
   "cell_type": "markdown",
   "metadata": {},
   "source": [
    "#### Ejercicio teórico 2.2.3\n",
    "\n",
    "Observar que sucede con las derivadas de orden superior para la función $f(x)=sen(x)$. Para esto calcular $\\dfrac{df}{dx}$, $\\dfrac{d^2f}{dx^2}$, $\\dfrac{d^3f}{dx^3}$ y $\\dfrac{d^4f}{dx^4}$. \n",
    "\n",
    "¿Puede observar un patrón? Calcular la derivada $\\dfrac{d^{27}f}{dx^{27}}$."
   ]
  },
  {
   "cell_type": "markdown",
   "metadata": {},
   "source": [
    "---\n",
    "### 2.2.4 - Derivación simbólica en Python: SymPy\n",
    "\n",
    "![imagen.png](https://docs.sympy.org/latest/_static/sympylogo.png)\n",
    "\n",
    "Existe una librería que nos permite calcular las derivadas de manera simbólica: [SymPy](https://docs.sympy.org/latest/tutorial/index.html#tutorial). Esta librería nos provee de simbolos y [funciones](https://docs.sympy.org/latest/modules/functions/index.html) que nos permiten crear *expresiones simbólicas* las cuales podemos derivar, evaluar, integrar, graficar y más.\n",
    "\n",
    "Veamos un ejemplo:"
   ]
  },
  {
   "cell_type": "code",
   "execution_count": 19,
   "metadata": {},
   "outputs": [
    {
     "name": "stdout",
     "output_type": "stream",
     "text": [
      "La derivada de 1/(exp(5 - t) + 1) es  exp(5 - t)/(exp(5 - t) + 1)**2\n"
     ]
    }
   ],
   "source": [
    "# SymPy utiliza un tipo de objeto que son los símbolos que representarán variables\n",
    "# import sympy as sp\n",
    "f, t = sp.symbols('f, t')\n",
    "\n",
    "# Para definir las funciones tenemos que utilizar el módulo de funciones que tiene SymPy\n",
    "f = 1/(1 + sp.exp(-(t-5)))\n",
    "\n",
    "# La función \"derivar\" podemos\n",
    "diff_f = sp.diff(f)\n",
    "\n",
    "# Imprimimos la derivada\n",
    "print('La derivada de', f, 'es ', diff_f)"
   ]
  },
  {
   "cell_type": "code",
   "execution_count": 20,
   "metadata": {},
   "outputs": [
    {
     "data": {
      "text/latex": [
       "$\\displaystyle \\frac{d}{d t} \\frac{1}{e^{5 - t} + 1}$"
      ],
      "text/plain": [
       "Derivative(1/(exp(5 - t) + 1), t)"
      ]
     },
     "execution_count": 20,
     "metadata": {},
     "output_type": "execute_result"
    }
   ],
   "source": [
    "# Ademas podemos utilizar la clase Derivative que nos permite declarar una derivada\n",
    "# a partir de la función y los simbolos respectos a los cuales derivamos y cuántas veces\n",
    "deriv_f = sp.Derivative(f, t)\n",
    "\n",
    "deriv_f"
   ]
  },
  {
   "cell_type": "code",
   "execution_count": 21,
   "metadata": {},
   "outputs": [
    {
     "data": {
      "text/latex": [
       "$\\displaystyle \\frac{e^{5 - t}}{\\left(e^{5 - t} + 1\\right)^{2}}$"
      ],
      "text/plain": [
       "exp(5 - t)/(exp(5 - t) + 1)**2"
      ]
     },
     "execution_count": 21,
     "metadata": {},
     "output_type": "execute_result"
    }
   ],
   "source": [
    "# A diferencia de sp.diff, Derivative nos construye la función derivada pero no la \n",
    "# \"evalua\", para eso tenemos que decirle que lo haga con el método doit\n",
    "deriv_f.doit()"
   ]
  },
  {
   "cell_type": "code",
   "execution_count": 22,
   "metadata": {},
   "outputs": [
    {
     "data": {
      "text/latex": [
       "$\\displaystyle \\frac{- e^{5 - t} + \\frac{2 e^{10 - 2 t}}{e^{5 - t} + 1}}{\\left(e^{5 - t} + 1\\right)^{2}}$"
      ],
      "text/plain": [
       "(-exp(5 - t) + 2*exp(10 - 2*t)/(exp(5 - t) + 1))/(exp(5 - t) + 1)**2"
      ]
     },
     "execution_count": 22,
     "metadata": {},
     "output_type": "execute_result"
    }
   ],
   "source": [
    "# Podemos derivar dos veces con Derivative\n",
    "deriv_f_2 = sp.Derivative(f,t,t)\n",
    "deriv_f_2.doit()"
   ]
  },
  {
   "cell_type": "markdown",
   "metadata": {},
   "source": [
    "Si queremos poder evaluar numéricamente una expresion de SymPy debemos pasarla primero a NumPy ya que las expresiones simbólicas no nos permiten hacerlo:"
   ]
  },
  {
   "cell_type": "code",
   "execution_count": 23,
   "metadata": {},
   "outputs": [
    {
     "data": {
      "text/plain": [
       "array([0.00664806, 0.01766271, 0.04517666, 0.10499359, 0.19661193,\n",
       "       0.25      , 0.19661193, 0.10499359, 0.04517666, 0.01766271])"
      ]
     },
     "execution_count": 23,
     "metadata": {},
     "output_type": "execute_result"
    }
   ],
   "source": [
    "# Lambdify nos dejará convertir una expresión de sympy a numpy\n",
    "diff_f_numpy = sp.lambdify(t, diff_f, 'numpy')\n",
    "diff_f_numpy(5)\n",
    "diff_f_numpy(np.arange(0,10,1))"
   ]
  },
  {
   "cell_type": "markdown",
   "metadata": {},
   "source": [
    "Si queremos graficar nuestras funciones, no es necesario pasarnos a Numpy para hacerlo numéricamente, podemos usar SymPy para graficar con el módulo `plot` varias expresiones, creando un objeto al cuál podremos ir agregandole otros gráficos:"
   ]
  },
  {
   "cell_type": "code",
   "execution_count": 24,
   "metadata": {},
   "outputs": [
    {
     "data": {
      "image/png": "[encoded data removed]",
      "text/plain": [
       "<Figure size 900x600 with 1 Axes>"
      ]
     },
     "metadata": {},
     "output_type": "display_data"
    }
   ],
   "source": [
    "x = sp.symbols('x')\n",
    "# Como vamos a agregarle varios plots al gráfico usamos show=False\n",
    "p1 = sp.plot(f, show=False)\n",
    "p2 = sp.plot(diff_f,show=False)\n",
    "\n",
    "p1.extend(p2)\n",
    "\n",
    "p1.show()"
   ]
  },
  {
   "cell_type": "markdown",
   "metadata": {},
   "source": [
    "Puede volver al widget visto en la sección 2.0 y ver son los gráficos de la función sigmoide y su derivada y ver que son efectivamente las mismas."
   ]
  },
  {
   "cell_type": "markdown",
   "metadata": {},
   "source": [
    "#### Ejercicio de programación 2.2.4\n",
    "\n",
    "Utilizando SymPy compruebe los resultados de derivar el Potencial Postsináptico del ejericio 2.1.2 y grafiquelos."
   ]
  },
  {
   "cell_type": "code",
   "execution_count": null,
   "metadata": {},
   "outputs": [],
   "source": [
    "########################################################################\n",
    "## TODO \n",
    "## completar los ... abajo y eliminar la linea que sigue\n",
    "raise NotImplementedError(\"Calculen las derivadas\")\n",
    "########################################################################\n",
    "\n",
    "# declaramos los simbolos necesarios\n",
    "...\n",
    "\n",
    "# creamos la funcion para el potencial psp\n",
    "psp = ...\n",
    "\n",
    "# calculamos su derivada\n",
    "diff_psp = ..."
   ]
  },
  {
   "cell_type": "markdown",
   "metadata": {},
   "source": [
    "### 2.2.5 - Automatic Differentiation\n",
    "\n",
    "Hoy en día existen librerías que nos permiten calcular derivadas de manera automática: [*Automatic Differentiation*](https://en.wikipedia.org/wiki/Automatic_differentiation). Las dos herramientas más populares de Deep Learning, [PyTorch](https://pytorch.org/tutorials/beginner/blitz/autograd_tutorial.html) y [TensorFlow](https://www.tensorflow.org/guide/autodiff), aplican estas técnicas para ir calculando las derivadas de los modelos a medida que se van construyendo."
   ]
  },
  {
   "cell_type": "markdown",
   "metadata": {},
   "source": [
    "---\n",
    "\n",
    "## 2.2: Derivación numérica\n",
    "\n",
    "Formalmente, la derivada de una función $\\mathcal{f}(x)$ en cualquier valor $a$ puede aproximarse por el cociente incremental en un entorno del valor $a$ acercandonos al mismo por un valor $h>0$. Esto se conoce como [*diferencia finita*](https://www.wikiwand.com/es/Diferencia_finita) (DF):\n",
    "\n",
    "\\begin{equation}\n",
    "DF_h(a) = \\frac{f(a+h) - f(a)}{h} \\sim \\partial f(a)\n",
    "\\end{equation}\n",
    "\n",
    "Cuando $h\\rightarrow 0$, la DF se aproxima al valor real de la derivada. Comprobemos esto."
   ]
  },
  {
   "cell_type": "markdown",
   "metadata": {},
   "source": [
    "### Widget interactivo: Derivando numéricamente el seno\n",
    "\n",
    "A continuación, encontramos la derivada numérica de la función seno para diferentes valores de $h$ y comparamos el resultado con la solución analítica.\n",
    "\n",
    "- ¿Qué valores de h resultan en derivadas numéricas más precisas?"
   ]
  },
  {
   "cell_type": "code",
   "execution_count": 25,
   "metadata": {},
   "outputs": [
    {
     "data": {
      "application/vnd.jupyter.widget-view+json": {
       "model_id": "c01a90dec6874c4fab4d462c6850ae01",
       "version_major": 2,
       "version_minor": 0
      },
      "text/plain": [
       "interactive(children=(FloatSlider(value=0.2, description='h', max=0.5, min=0.01, step=0.02), Output()), _dom_c…"
      ]
     },
     "metadata": {},
     "output_type": "display_data"
    }
   ],
   "source": [
    "# @markdown *Ejecute esta celda para habilitar el widget.*\n",
    "def numerical_derivative_demo(h = 0.2):\n",
    "  # Now lets create a sequence of numbers which change according to the sine function\n",
    "  dt = 0.01\n",
    "  tx = np.arange(-10, 10, dt)\n",
    "  sine_fun = np.sin(tx)\n",
    "\n",
    "  # symbolic diffrentiation tells us that the derivative of sin(t) is cos(t)\n",
    "  cos_fun = np.cos(tx)\n",
    "\n",
    "  # Numerical derivative using difference formula\n",
    "  n_tx = np.arange(-10,10,h) # create new time axis\n",
    "  n_sine_fun = np.sin(n_tx) # calculate the sine function on the new time axis\n",
    "  sine_diff = (n_sine_fun[1:] - n_sine_fun[0:-1]) / h\n",
    "\n",
    "  fig = plt.figure()\n",
    "  ax = plt.subplot(111)\n",
    "  plt.plot(tx, sine_fun, label='seno')\n",
    "  plt.plot(tx, cos_fun, label='derivada analítica')\n",
    "\n",
    "  #with plt.xkcd():\n",
    "    # notice that numerical derivative will have one element less\n",
    "  plt.plot(n_tx[0:-1], sine_diff, label='derivada numérica')\n",
    "  plt.xlim([-10, 10])\n",
    "  plt.xlabel('x')\n",
    "  plt.ylabel('f(x) o df(x)/dx')\n",
    "  ax.legend(loc='upper center', bbox_to_anchor=(0.5, 1.05),\n",
    "            ncol=3, fancybox=True)\n",
    "  plt.show()\n",
    "\n",
    "_ = widgets.interact(numerical_derivative_demo, h = (0.01, 0.5, .02))"
   ]
  },
  {
   "cell_type": "markdown",
   "metadata": {},
   "source": [
    "# 3 - Cálculo diferencial en varias variables"
   ]
  },
  {
   "cell_type": "markdown",
   "metadata": {},
   "source": [
    "## 3.0 - Funciones en varias variables \n",
    "\n",
    "En los problemas de la vida real, las funciones tendrán mas de una variable o incluso podrían tener mas de una sola salida. Para representar estas funciones necesitaremos recurrir a los conocimientos que obtuvimos en la clase anterior: *vectores* y *matrices*. Miremos el siguiente ejemplo:\n",
    "\n",
    "\\begin{equation}\n",
    "h(t) = (h_1(t), h_2(t)) = (t^4, \\text{exp}(-t))\n",
    "\\end{equation}\n",
    "\n",
    "En este caso estamos viendo una función que recibe una variable de entrada y devuele dos valores, por lo tanto podemos escribir que:\n",
    "\n",
    "\\begin{align}\n",
    "h: \\mathbb{R} &\\rightarrow \\mathbb{R^2} \\\\\n",
    "t &\\mapsto (t^4, \\text{exp}(-t))\n",
    "\\end{align}\n",
    "\n",
    "Pero también pude suceder que en vez de tomar una sola entrada, nuestra función tome mas de una:\n",
    "\n",
    "\\begin{align}\n",
    "f(x,y) &= x^2 + 2xy + y^2\\\\\n",
    "f&: \\mathbb{R^2} \\rightarrow  \\mathbb{R}\n",
    "\\end{align}\n",
    "\n",
    "Es decir que en general la candidad de entradas puede ser tan grande o arbitraria como querramos $x_1,x_2,\\dots,x_n$ y lo mimso vale para las salidas $f_1,f_2,\\dots, f_m$. **En lo que queda de este curso nos concentraremos principalmente en funciones que tengan solo una salida: \"funciones escalares\", y asumiremos que todas las funciones son de este estilo salvo que se aclare lo contrario.**. \n",
    "\n",
    "Escribiremos a $f$ como una función que toma como entradas $n$ variables que podemos representar como un vector columna y escribirlo como $\\mathbf{x}$ para facilitarnos la notación:\n",
    "\n",
    "\\begin{equation}\n",
    "\\mathbf{x}=\\begin{pmatrix}\n",
    "x_1\\\\\n",
    "x_2\\\\\n",
    "\\vdots\\\\\n",
    "x_n\n",
    "\\end{pmatrix}\n",
    "\\end{equation}\n",
    "\n",
    "Entonces podemos ahora escribir esto como:\n",
    "\n",
    "\\begin{align}\n",
    "f: \\mathbb{R}^n &\\rightarrow \\mathbb{R} \\\\\n",
    "\\mathbf{x} &\\mapsto f(\\mathbf{x})\n",
    "\\end{align}\n",
    "\n",
    "Y ahora veamos como las podemos derivar!"
   ]
  },
  {
   "cell_type": "markdown",
   "metadata": {},
   "source": [
    "---\n",
    "## 3.1 - Derivadas parciales "
   ]
  },
  {
   "cell_type": "markdown",
   "metadata": {},
   "source": [
    "La definición de derivada no cambia con respecto a lo que veniamos viendo, solo que ahora tendremos que decir respecto a que variables estamos mirando el cambio de la función. Cuando tomamos la derivada de una función multivariable con respecto a una de las variables, se llama **derivada parcial**. Por ejemplo si tenemos una función:\n",
    "\n",
    "\\begin{align}\n",
    "f(x,y) = x^2 + 2xy + y^2\n",
    "\\end{align}\n",
    "\n",
    "Entonces las derivadas parciales de esta función serían dos, una con respecto a $x$ y otra con respecto a $y$:\n",
    "\n",
    "\\begin{align}\n",
    "\\frac{\\partial(f(x,y))}{\\partial x} = 2x + 2y + 0 \\\\\\\\\n",
    "\\frac{\\partial(f(x,y))}{\\partial y} = 0 + 2x + 2y\n",
    "\\end{align}\n",
    "\n",
    "En este caos, la derivada del último término ($y^2$) con respecto a $x$ es cero porque no cambia con respecto a $x$, es decir que para esta derivada ese término es igual a un término constante. De manera similar, la derivada de $x^2$ con respecto a $y$ también es cero.\n",
    "\n",
    "Otra observación importante es que siguen valiendo todas las reglas que vimos hasta ahora: linearidad, producto de funciones y regla de la cadena."
   ]
  },
  {
   "cell_type": "markdown",
   "metadata": {},
   "source": [
    "Al igual que con las derivadas que vimos anteriormente, puedes obtener derivadas parciales a través de un método analítico (encontrar una ecuación exacta) o un método numérico (aproximar)."
   ]
  },
  {
   "cell_type": "markdown",
   "metadata": {},
   "source": [
    "---\n",
    "### 3.1.1: Visualizando derivadas parciales\n",
    "\n",
    "En la demostración a continuación, pueden poner cualquier función de $x$ e $y$, como la escribiría en Python para luego visualizar tanto la función como las derivadas parciales.\n",
    "\n",
    "Visualizamos la función bidimensional (dos entradas, una salida) como un gráfico de superficie en el que los valores de la función se muestran en color. El amarillo representa un valor alto y el azul representa un valor bajo. La altura de la superficie también muestra el valor numérico de la función. Una descripción más completa de los gráficos de superficie 2D y por qué los necesitamos se encuentra en la Sección adicional 1.1. El primer gráfico es la de nuestra función. Y los dos gráficos inferiores son las superficies derivadas con respecto a (c.r.a.) las variables $x$ y $y$, $\\frac{df}{dx}$ y $\\frac{df}{dy}$ respectivamente.\n",
    "\n",
    "1. Asegúrese de comprender cómo se relacionan los gráficos entre sí; si no, revise el material anterior\n",
    "2. ¿Puedes pensar en una función en la que la derivada parcial con respecto a x sea un plano lineal y la derivada con respecto a y tenga más curvatura?\n",
    "3. ¿Qué sucede con las derivadas parciales si no hay términos que impliquen multiplicar $x$ y $y$ juntos?"
   ]
  },
  {
   "cell_type": "code",
   "execution_count": 26,
   "metadata": {},
   "outputs": [
    {
     "data": {
      "application/vnd.jupyter.widget-view+json": {
       "model_id": "6c08ac7def0e447f81364e7f6b79c864",
       "version_major": 2,
       "version_minor": 0
      },
      "text/plain": [
       "interactive(children=(Text(value='x**2 + 2*x*y + y**2', description='f2d_string'), Output()), _dom_classes=('w…"
      ]
     },
     "metadata": {},
     "output_type": "display_data"
    }
   ],
   "source": [
    "# @markdown Widget para habilitar la demo\n",
    "\n",
    "# Usemos sympy para calcular derivadas parciales de funciones de 2 variables\n",
    "@interact(f2d_string = 'x**2 + 2*x*y + y**2')\n",
    "def plot_partial_derivs(f2d_string):\n",
    "  f, x, y = sp.symbols('f, x, y')\n",
    "\n",
    "  f2d = eval(f2d_string)\n",
    "  f2d_dx = sp.diff(f2d,x)\n",
    "  f2d_dy = sp.diff(f2d,y)\n",
    "\n",
    "  print('La derivada parcial de ', f2d, 'con respecto a x es', f2d_dx)\n",
    "  print('La derivada parcial de ', f2d, 'con respecto a y es', f2d_dy)\n",
    "\n",
    "  p1 = sp.plotting.plot3d(f2d, (x, -5, 5), (y, -5, 5),show=True,xlabel='x', ylabel='y', zlabel='f(x,y)',title='Nuestra función')\n",
    "\n",
    "  p2 = sp.plotting.plot3d(f2d_dx, (x, -5, 5), (y, -5, 5),show=True,xlabel='x', ylabel='y', zlabel='df(x,y)/dx',title='Derivada c.r.a. x')\n",
    "\n",
    "  p3 = sp.plotting.plot3d(f2d_dy, (x, -5, 5), (y, -5, 5),show=True,xlabel='x', ylabel='y', zlabel='df(x,y)/dy',title='Derivada c.r.a. y')"
   ]
  },
  {
   "cell_type": "markdown",
   "metadata": {},
   "source": [
    "---\n",
    "### 3.1.2 El Gradiente\n",
    "\n",
    "El gradiente de la función $f(\\mathbf{x})$ en algún punto $\\mathbf{x}_\\mathrm{A}$ es el vector cuyas componentes son todas las derivadas parciales de la función en ese punto. Se escribe $\\nabla f(\\mathbf{x}_\\mathrm{A})$:\n",
    "\n",
    "$\\nabla f(\\mathbf{x}_\\mathrm{A}) = \\begin{pmatrix}\n",
    "\\dfrac{\\partial f}{\\partial x_1}(\\mathbf{x}_\\mathrm{A})\\\\\n",
    "\\dfrac{\\partial f}{\\partial x_2}(\\mathbf{x}_\\mathrm{A})\\\\\n",
    "\\vdots\\\\\\\n",
    "\\dfrac{\\partial f}{\\partial x_n}(\\mathbf{x}_\\mathrm{A})\\\\\n",
    "\\end{pmatrix}$"
   ]
  },
  {
   "cell_type": "markdown",
   "metadata": {},
   "source": [
    "Ahora, esto podemos ver como calcularlo en SymPy:"
   ]
  },
  {
   "cell_type": "code",
   "execution_count": 27,
   "metadata": {},
   "outputs": [
    {
     "name": "stdout",
     "output_type": "stream",
     "text": [
      "La derivada de 2*x1*x2 + x1*x3**4 - exp(x3) con respecto a x3 es  4*x1*x3**3 - exp(x3)\n"
     ]
    }
   ],
   "source": [
    "# definamos primero nuestra función y simbolos\n",
    "x1, x2, x3, f = sp.symbols('x1, x2, x3, f')\n",
    "f = 2*x1*x2 - sp.exp(x3) + x1*x3**4\n",
    "\n",
    "# si queremos saber la derivada diff nos pedira la variable con respecto a la cual derivar\n",
    "diff_f = sp.diff(f,x3)\n",
    "\n",
    "# Imprimimos la derivada con respecto a x3\n",
    "print('La derivada de', f, 'con respecto a x3 es ', diff_f)"
   ]
  },
  {
   "cell_type": "code",
   "execution_count": 28,
   "metadata": {},
   "outputs": [
    {
     "name": "stdout",
     "output_type": "stream",
     "text": [
      "{x2, x3, x1}\n",
      "{x2, x1}\n"
     ]
    }
   ],
   "source": [
    "# si queremos calcular el gradiente tendremos que calcular cada derivada parcial\n",
    "# para esto debemos conseguir los \"simbolos libres\" de la expresión\n",
    "print(f.free_symbols)\n",
    "\n",
    "# tengan cuidado ya que si nuestra función es independiente de un termino no aparecerá\n",
    "# como símbolo libre\n",
    "g = sp.symbols('g')\n",
    "g = sp.sqrt(x1) - x2**3\n",
    "print(g.free_symbols)"
   ]
  },
  {
   "cell_type": "code",
   "execution_count": 29,
   "metadata": {},
   "outputs": [
    {
     "name": "stdout",
     "output_type": "stream",
     "text": [
      "[2*x1, 4*x1*x3**3 - exp(x3), 2*x2 + x3**4]\n",
      "[2*x2 + x3**4, 2*x1, 4*x1*x3**3 - exp(x3)]\n"
     ]
    }
   ],
   "source": [
    "# ahora podemos conseguir nuestro gradiente de una manera directa\n",
    "grad_f = [f.diff(x) for x in f.free_symbols]\n",
    "print(grad_f)\n",
    "\n",
    "# otra forma de hacerlo es con derive_by_array\n",
    "grad_f_bis = sp.derive_by_array(f, (x1, x2, x3))\n",
    "print(grad_f_bis)\n",
    "\n",
    "# hay que tener cuidado que el orden no es necesariamente el mismo"
   ]
  },
  {
   "cell_type": "markdown",
   "metadata": {},
   "source": [
    "**Intepretación geométrica**\n",
    "\n",
    "El gradiente es una generalización de lo que antes llamamos la derivada de una función de una sola variable, solo que esta vez la \"derivada\" tiene mas dimensiones que dependen de la cantidad de salidas que tenga nuestra función. En esos casos la derivada representaba la pendiente de una recta que aproximaba localmente a la función. Al pasar a muchas dimensiones, solemos perder la intuición de lo que esta sucediendo ya que es dificil de visualizar. Sin embargo, la idea es muy similar, pero en vez de tener una recta tenemos la versión generalizada, que es un plano. En la imagen vemos el gráfico de una función $f(x,y)$ como una superficie celeste y un punto $P$, donde calculamos cuanto vale el $\\nabla f$ ahí [1].\n",
    "\n",
    "![image.png](https://skeptric.com/images/tangent_plane.png)\n",
    "\n",
    "En vez de tener una **recta tangente** como vimos en el ejemplo de la función cuadrática, tendremos **un plano tangente** que esta caracterizado por ese punto y un vector normal (perpendicular) a la superficie. Asi como la derivada $f'$ era la pendiente de la recta, en este caso $\\nabla f$ será la normal del plano.\n",
    "\n",
    "Además, el gradiente tiene una característica que será muy relevante para los algortimos de optimización usados en Deep Learning, el mismo **apunta en la dirección de máximo crecimiento de la función**. Esto quiere decir que si uno quisiera saber haciendo donde moverse en el gráfico de la función para seguir subiendo lo más posible estando parado en $f(\\mathbf{x}_0)$, deberia seguir la dirección en la que apunte $\\nabla f(\\mathbf{x}_0)$. A su vez, implica que seguir la dirección de máximo decrecimiento será $-\\nabla f(\\mathbf{x}_0)$.\n",
    "\n",
    "[1] Imagen tomada de: https://skeptric.com/derivative/"
   ]
  },
  {
   "cell_type": "markdown",
   "metadata": {},
   "source": [
    "Hasta ahora solo hemos considerado funciones que generan un escalar, pero en su lugar es posible generar vectores. Por ejemplo, una red neuronal de clasificación normalmente genera una probabilidad para cada clase, por lo que si hay $m$ clases, la red neuronal generará un vector dimensional $d$ para cada entrada.\n",
    "\n",
    "En Deep Learning, generalmente solo necesitamos calcular la derivada(gradiente) de la función de pérdida, que casi siempre genera un solo número escalar. Pero supongamos por un segundo que desea diferenciar una función $\\mathbf{f}(\\mathbf{x})$ que genera vectores $d$-dimensionales. La buena noticia es que puede tratar cada dimensión de _salida_ independientemente de las demás. Esto le dará una derivada parcial para cada dimensión de entrada y cada dimensión de salida. Si los pone a todos en una sola matriz, con una columna por dimensión de entrada y una fila por dimensión de salida, obtiene la llamada **matriz jacobiana**.\n",
    "\n",
    "$\n",
    "\\mathbf{J}_\\mathbf{f}(\\mathbf{x}_\\mathbf{A}) = \\begin{pmatrix}\n",
    "\\dfrac{\\partial f_1}{\\partial x_1}(\\mathbf{x}_\\mathbf{A})\n",
    "&& \\dfrac{\\partial f_1}{\\partial x_2}(\\mathbf{x}_\\mathbf{A})\n",
    "&& \\dots\n",
    "&& \\dfrac{\\partial f_1}{\\partial x_n}(\\mathbf{x}_\\mathbf{A})\\\\\n",
    "\\dfrac{\\partial f_2}{\\partial x_1}(\\mathbf{x}_\\mathbf{A})\n",
    "&& \\dfrac{\\partial f_2}{\\partial x_2}(\\mathbf{x}_\\mathbf{A})\n",
    "&& \\dots\n",
    "&& \\dfrac{\\partial f_2}{\\partial x_n}(\\mathbf{x}_\\mathbf{A})\\\\\n",
    "\\vdots && \\vdots && \\ddots && \\vdots \\\\\n",
    "\\dfrac{\\partial f_m}{\\partial x_1}(\\mathbf{x}_\\mathbf{A})\n",
    "&& \\dfrac{\\partial f_m}{\\partial x_2}(\\mathbf{x}_\\mathbf{A})\n",
    "&& \\dots\n",
    "&& \\dfrac{\\partial f_m}{\\partial x_n}(\\mathbf{x}_\\mathbf{A})\n",
    "\\end{pmatrix}\n",
    "$"
   ]
  },
  {
   "cell_type": "markdown",
   "metadata": {},
   "source": [
    "---\n",
    "## 3.3 - El Hessiano (*)"
   ]
  },
  {
   "cell_type": "markdown",
   "metadata": {},
   "source": [
    "Volvamos a una función $f(\\mathbf{x})$ que toma un vector $n$-dimensional como entrada y genera un escalar. Si determinas la ecuación de la derivada parcial de $f$ con respecto a $x_i$ (la componente $i^\\text{th}$ de $\\mathbf{x}$), obtendrás una nueva función de $\\mathbf{x}$: $\\dfrac{\\partial f}{\\partial x_i}$. Luego puede calcular la derivada parcial de esta función con respecto a $x_j$ (el componente $j^\\text{th}$ de $\\mathbf{x}$). El resultado es una derivada parcial de una derivada parcial: en otras palabras, es una **derivada parcial de segundo orden**, también llamada **Hessiana**. \n",
    "\n",
    "Se anota $\\mathbf{x}$: $\\dfrac{\\partial^2 f}{\\partial x_jx_i}$. Si $i\\neq j$ entonces se llama **derivada parcial mixta de segundo orden**.\n",
    "O bien, si $j=i$, se anota $\\dfrac{\\partial^2 f}{\\partial {x_i}^2}$\n",
    "\n",
    "Veamos un ejemplo: $f(x, y)=\\sin(xy)$. Como mostramos anteriormente, las derivadas parciales de primer orden de $f$ son: $\\dfrac{\\partial f}{\\partial x}=y\\cos(xy)$ y $\\dfrac{\\partial f}{\\partial y }=x\\cos(xy)$. Entonces ahora podemos calcular todas los hessianos (usando las reglas derivadas que discutimos anteriormente):\n",
    "\n",
    "* $\\dfrac{\\partial^2 f}{\\partial x^2} = \\dfrac{\\partial f}{\\partial x}\\left[y\\cos(xy)\\right] = -y^2\\sin(xy)$\n",
    "* $\\dfrac{\\partial^2 f}{\\partial y\\,\\partial x} = \\dfrac{\\partial f}{\\partial y}\\left[y\\cos(xy)\\right] = \\cos(xy) - xy\\sin(xy)$\n",
    "* $\\dfrac{\\partial^2 f}{\\partial x\\,\\partial y} = \\dfrac{\\partial f}{\\partial x}\\left[x\\cos(xy)\\right] = \\cos(xy) - xy\\sin(xy)$\n",
    "* $\\dfrac{\\partial^2 f}{\\partial y^2} = \\dfrac{\\partial f}{\\partial y}\\left[x\\cos(xy)\\right] = -x^2\\sin(xy)$\n",
    "\n",
    "Tenga en cuenta que $\\dfrac{\\partial^2 f}{\\partial x\\,\\partial y} = \\dfrac{\\partial^2 f}{\\partial y\\,\\partial x}$. Este es el caso siempre que todas las derivadas parciales sean definidas y continuas en una vecindad alrededor del punto en el que derivamos.\n",
    "\n",
    "La matriz que contiene todas las hessianas se denomina **matriz hessiana**:\n",
    "\n",
    "$\n",
    "\\mathbf{H}_f(\\mathbf{x}_\\mathbf{A}) = \\begin{pmatrix}\n",
    "\\dfrac{\\partial^2 f}{\\partial {x_1}^2}(\\mathbf{x}_\\mathbf{A})\n",
    "&& \\dfrac{\\partial^2 f}{\\partial x_1\\, \\partial x_2}(\\mathbf{x}_\\mathbf{A})\n",
    "&& \\dots\n",
    "&& \\dfrac{\\partial^2 f}{\\partial x_1\\, \\partial x_n}(\\mathbf{x}_\\mathbf{A})\\\\\n",
    "\\dfrac{\\partial^2 f}{\\partial x_2\\,\\partial x_1}(\\mathbf{x}_\\mathbf{A})\n",
    "&& \\dfrac{\\partial^2 f}{\\partial {x_2}^2}(\\mathbf{x}_\\mathbf{A})\n",
    "&& \\dots\n",
    "&& \\dfrac{\\partial^2 f}{\\partial x_2\\, \\partial x_n}(\\mathbf{x}_\\mathbf{A})\\\\\n",
    "\\vdots && \\vdots && \\ddots && \\vdots \\\\\n",
    "\\dfrac{\\partial^2 f}{\\partial x_n\\,\\partial x_1}(\\mathbf{x}_\\mathbf{A})\n",
    "&& \\dfrac{\\partial^2 f}{\\partial x_n\\,\\partial x_2}(\\mathbf{x}_\\mathbf{A})\n",
    "&& \\dots\n",
    "&& \\dfrac{\\partial^2 f}{\\partial {x_n}^2}(\\mathbf{x}_\\mathbf{A})\\\\\n",
    "\\end{pmatrix}\n",
    "$"
   ]
  },
  {
   "cell_type": "markdown",
   "metadata": {},
   "source": [
    "**Observación** Existen excelentes algoritmos de optimización que aprovechan las hessianas, pero en la práctica, Deep Learning casi nunca las usa. De hecho, si una función tiene $n$ variables, hay $n^2$ hessianos: dado que las redes neuronales suelen tener varios millones de parámetros, el número de hessianos superaría los miles de billones. Incluso si tuviéramos la cantidad necesaria de RAM, los cálculos serían prohibitivamente lentos."
   ]
  },
  {
   "cell_type": "markdown",
   "metadata": {},
   "source": [
    "---\n",
    "# 4 - Cálculo integral"
   ]
  },
  {
   "cell_type": "markdown",
   "metadata": {},
   "source": [
    "##  4.0 - Integración numérica"
   ]
  },
  {
   "cell_type": "markdown",
   "metadata": {},
   "source": [
    "La diferenciación solo constituye la mitad del contenido del cálculo tradicional. El otro pilar, la integración o cálculo intergal, comienza pareciendo una pregunta bastante inconexa: \"¿Cuál es el área debajo de esta curva?\" Si bien aparentemente no tiene relación, la integración está estrechamente entrelazada con la diferenciación a través de lo que se conoce como el [*teorema fundamental del cálculo*](https://es.wikipedia.org/wiki/Teorema_fundamental_del_c%C3%A1lculo).\n",
    "\n",
    "Para entonces poder calcular la integral la denotaremos como el área con el siguiente símbolo integral:\n",
    "\n",
    "$$\n",
    "\\mathrm{Área}(\\mathcal{A}) = \\int_a^b f(x) \\;dx.\n",
    "$$\n",
    "\n",
    "La variable interna es una variable ficticia, muy parecida al índice de una suma en $\\sum$, por lo que se puede escribir de manera equivalente con cualquier valor interno que deseemos:\n",
    "\n",
    "$$\n",
    "\\int_a^b f(x) \\;dx = \\int_a^b f(z) \\;dz.\n",
    "$$\n",
    "\n",
    "Hay una forma tradicional de tratar de entender cómo podríamos tratar de aproximar tales integrales: podemos imaginar tomar la región entre $a$ y $b$ y cortarla en $N$ rebanadas verticales. Si $N$ es grande, podemos aproximar el área de cada rebanada por un rectángulo y luego sumar las áreas para obtener el área total bajo la curva. Para calcular esta suma recurriremos a los que se conoce como **sumas de Rienmann**."
   ]
  },
  {
   "cell_type": "markdown",
   "metadata": {},
   "source": [
    "## 4.1 - Teorema Fundamental del Cálculo\n",
    "\n",
    "Lo que vimos recién fue una integral definida, ya que tenía límites, pero podríamos hacerlo sin límites y eso sería lo que se conoce como **integral indefinida** o **primitiva**. Hasta aca no teníamos una relación directa entre los dos conceptos, y eso lo resuelve este teorema junto a las primitivas, diciéndonos que calcular una primitiva, es la operación inversa a derivar. Si tenemos definida una función de la siguiente manera:\n",
    "\n",
    "$$\n",
    "F(x) = \\int_0^x f(t) dt.\n",
    "$$\n",
    "\n",
    "Entonces, el teorema nos dice que, dadas ciertas condiciones:\n",
    "\n",
    "$$\n",
    "\\frac{dF}{dx}(x) = f(x).\n",
    "$$\n",
    "\n",
    "Así unimos ambos hemisferios del cálculo. Hay que tener en cuenta que integrar es una operación más compleja, y que no tendremos un conjunto de reglas que nos permitan encontrar siempre una primitiva (es decir si tenemos $f$, encontrar $F$). Por eso es que muchas veces recurriremos más a técnicas numéricas que analíticas para resolverlas."
   ]
  },
  {
   "cell_type": "markdown",
   "metadata": {},
   "source": [
    "## 4.2 - Suma de Riemann e integral analítica\n",
    "\n",
    "**[Suma de Riemann](https://en.wikipedia.org/wiki/Riemann_sum)**:\n",
    "Si deseamos integrar una función $f(t)$ con respecto a $t$, primero dividimos la función en $n$ intervalos de tamaño $dt = a-b$, donde $a$ es el inicio del intervalo. Así, cada intervalo da un rectángulo con altura $f(a)$ y ancho $dt$. Al sumar el área de todos los rectángulos, podemos aproximar el área bajo la curva. A medida que el tamaño $dt$ se acerca a cero, nuestra estimación de la integral se acerca al cálculo analítico. Esencialmente, la suma de Riemann es cortar la región bajo la curva en franjas verticales, calcular el área de cada franja y sumarlas.\n",
    "\n",
    "A continuación, compararemos la integración numérica utilizando la Suma de Riemann con la solución analítica. Puede cambiar el tamaño del intervalo $dt$ usando el control deslizante.\n",
    "\n",
    "1. ¿Qué valores de dt dan como resultado la mejor integración numérica?\n",
    "2. ¿Cuál es la desventaja de elegir ese valor de $dt$?\n",
    "3. Con dt grande, ¿por qué subestimamos la integral (en lugar de sobreestimarla?"
   ]
  },
  {
   "cell_type": "markdown",
   "metadata": {},
   "source": [
    "¡Ejecute esta celda para habilitar el widget!"
   ]
  },
  {
   "cell_type": "code",
   "execution_count": 30,
   "metadata": {},
   "outputs": [
    {
     "data": {
      "application/vnd.jupyter.widget-view+json": {
       "model_id": "382f7c7a333c48a38ec8b980ef4b581d",
       "version_major": 2,
       "version_minor": 0
      },
      "text/plain": [
       "interactive(children=(FloatSlider(value=0.5, description='dt', max=1.0, min=0.1, step=0.02), Output()), _dom_c…"
      ]
     },
     "metadata": {},
     "output_type": "display_data"
    }
   ],
   "source": [
    "#@title \n",
    "def riemann_sum_demo(dt = 0.5):\n",
    "  step_size = 0.1\n",
    "  min_val = 0.\n",
    "  max_val = 10.\n",
    "  tx = np.arange(min_val, max_val, step_size)\n",
    "\n",
    "  # Our function\n",
    "  ftn = tx**2 - tx + 1\n",
    "  # And the integral analytical formula calculates using sympy\n",
    "  int_ftn = tx**3/3 - tx**2/2 + tx\n",
    "\n",
    "  # Numerical integration of f(t) using Riemann Sum\n",
    "  n = int((max_val-min_val)/dt)\n",
    "  r_tx = np.zeros(n)\n",
    "  fun_value = np.zeros(n)\n",
    "  for ii in range(n):\n",
    "    a = min_val+ii*dt\n",
    "    fun_value[ii] = a**2 - a + 1\n",
    "    r_tx[ii] = a;\n",
    "\n",
    "  # Riemann sum is just cumulative sum of the fun_value multiplied by the\n",
    "  r_sum = np.cumsum(fun_value)*dt\n",
    "  #with plt.xkcd():\n",
    "  plt.figure(figsize=(20,5))\n",
    "  ax = plt.subplot(1,2,1)\n",
    "  plt.plot(tx,ftn,label='Function')\n",
    "\n",
    "  for ii in range(n):\n",
    "    plt.plot([r_tx[ii], r_tx[ii], r_tx[ii]+dt, r_tx[ii]+dt], [0, fun_value[ii], fun_value[ii], 0] ,color='r')\n",
    "\n",
    "  plt.xlabel('Time (au)')\n",
    "  plt.ylabel('f(t)')\n",
    "  plt.title('f(t)')\n",
    "  #plt.grid()\n",
    "\n",
    "  plt.subplot(1,2,2)\n",
    "  plt.plot(tx,int_ftn,label='Analytical')\n",
    "  plt.plot(r_tx+dt,r_sum,color = 'r',label='Riemann Sum')\n",
    "  plt.xlabel('Time (au)')\n",
    "  plt.ylabel('int(f(t))')\n",
    "  plt.title('Integral of f(t)')\n",
    "  #plt.grid()\n",
    "  plt.legend()\n",
    "  plt.show()\n",
    "\n",
    "\n",
    "_ = widgets.interact(riemann_sum_demo, dt = (0.1, 1., .02))"
   ]
  },
  {
   "cell_type": "markdown",
   "metadata": {},
   "source": [
    "Existen otros métodos de integración numérica, como\n",
    "**[Integral de Lebesgue](https://en.wikipedia.org/wiki/Lebesgue_integral)** y **Runge Kutta**. En la integral de Lebesgue, dividimos el área bajo la curva en franjas horizontales. Es decir, en lugar de la variable independiente, el rango de la función $f(t)$ se divide en pequeños intervalos. En cualquier caso, la suma de Riemann es la base del método de integración de Euler para resolver ecuaciones diferenciales ordinarias. Hay mucha investigación en ML y DL sobre como aplicar estas técnicas en resolver estas ecuaciones de manera más óptima, por ejemplo: [Physics-informed Neural Networks](https://benmoseley.blog/my-research/so-what-is-a-physics-informed-neural-network/)"
   ]
  },
  {
   "cell_type": "markdown",
   "metadata": {},
   "source": [
    "---\n",
    "# Resumen\n",
    "\n",
    "* Geométricamente, la integración es el área bajo la curva y la diferenciación es la pendiente de la función\n",
    "* Los conceptos de pendiente y área se pueden extender fácilmente a dimensiones superiores.\n",
    "* Las estimaciones numéricas de derivadas e integrales requieren que elijamos un paso de tiempo $h$. Cuanto menor sea $h$, mejor será la estimación, pero para valores pequeños de $h$, se necesitan más cálculos. Así que siempre hay alguna compensación.\n",
    "* Las derivadas parciales son solo la estimación de la pendiente a lo largo de una de las muchas dimensiones de la función.\n",
    "* Debido a que la derivada de una función es cero en el punto máximo o mínimo local, las derivadas se utilizan para resolver problemas de optimización."
   ]
  },
  {
   "cell_type": "markdown",
   "metadata": {},
   "source": [
    "---\n",
    "# Recursos\n",
    "\n",
    "- Capítulo 5 del libro [Mathematics for Machine Learning](https://mml-book.github.io/)\n",
    "- Preeliminares del libro [Dive Into Deep Learning](https://d2l.ai/index.html)\n",
    "- Videos del canal [3Blue1Brown](https://www.youtube.com/playlist?list=PLZHQObOWTQDMsr9K-rj53DwVRMYO3t5Yr) sobre Cálculo\n",
    "- [Diferenciación automática](https://d2l.ai/chapter_preliminaries/autograd.html)\n",
    "- Links en las secciones a Wikipedia\n",
    "- Múltiples libros de Análisis Matemático"
   ]
  },
  {
   "cell_type": "markdown",
   "metadata": {},
   "source": [
    "---\n",
    "# Extra - Aplicación: Derivando una función de pérdida\n",
    "\n",
    "Una de las cosas que nos va a interesar derivar son funciones que nos cuantifiquen el rendimiento de un modelo que se conoce como *función de pérdida* o *error*. Lo que vamos a querer hacer es, dado un conjunto de datos, vamos a querer encontrar el modelo que minimice esta pérdida.\n",
    "\n",
    "Supongamos que tenemos dos valores $y$ e $\\hat{y}$, donde el primero es el valor verdadero y el segundo es una predicción de este valor que vendrá dado por algún modelo $f$. Este modelo no será otra cosa que una función, por ejemplo podría ser una [*regresión lineal*](https://es.wikipedia.org/wiki/Regresi%C3%B3n_lineal):\n",
    "\n",
    "\\begin{equation}\n",
    "f(x) = \\beta_1 x + \\beta_0\n",
    "\\end{equation}\n",
    "\n",
    "Si queremos encontrar un modelo, es decir hallar $\\beta_0$ y $\\beta_1$, que mejor aproxime a algun conjunto de datos, vamos a tener que cuantificar con una función de pérdida $\\mathcal{L}$. Una que se suele utilizar es la pérdida cuadrática:\n",
    "\n",
    "\\begin{equation}\n",
    "\\mathcal{L}(y,\\hat{y}) = (y - \\hat{y})^2\n",
    "\\end{equation}\n",
    "\n",
    "En general tendremos mas de un dato solo, supongamos que tenemos un *dataset* de $n$ puntos $(x_i, y_i)$ (tambien lo escribiremos como vectores $\\mathbf{x},\\mathbf{y}\\in\\mathbb{R}^n$). Podemos entonces reescrir el error del modelo sobre un dataset de tamaño arbitrario promediando los errores por cada dato de la siguente manera:\n",
    "\n",
    "\\begin{equation}\n",
    "\\mathcal{L}(\\mathbf{y},\\hat{\\mathbf{y}}) = \\frac{1}{n} \\sum_{i=1}^n ({y}_i - \\hat{{y}}_i)^2\n",
    "\\end{equation}\n",
    "\n",
    "Ahora, nuestras predicciones $\\hat{y}_i$ son el resultado de evaluar nuestro modelo $f(x_i)=\\beta_1x_i + \\beta_0=\\hat{y}_i$, así obtenemos la pérdida en función de nuestra variable de entrada $x$:\n",
    "\n",
    "\\begin{equation}\n",
    "\\mathcal{L}(\\mathbf{y}, f(\\mathbf{x})) = \\frac{1}{n} \\sum_{i=1}^n (y_i - (\\beta_1x_i + \\beta_0))^2\n",
    "\\end{equation}\n",
    "\n",
    "De esta manera $\\mathcal{L}$, dado nuestro conjunto de datos, nos cuántifica que tan lejos estamos de los valores, con nuestras predicciones. Esta función depende de los parámetros de nuestros modelos, pero si lo pensamos como nuevas variables, ya que los $x_i$ estan fijos, nos gustaría encontrar el mínimo de la pérdida. \n",
    "\n",
    "Si derivamos a $f$ con respecto a $\\beta_0$ y $\\beta_1$, podemos entender que le pasa a esta función en términos de crecimiento/decrecimiento:\n",
    "\n",
    "\\begin{align}\n",
    "\\dfrac{d}{d\\beta_0} \\mathcal{L} &=  -\\frac{2}{n} \\sum_{i=1}^n (y_i - (\\beta_1x_i + \\beta_0))\\cdot 1\\\\\n",
    "\\dfrac{d}{d\\beta_1} \\mathcal{L} &= -\\frac{2}{n} \\sum_{i=1}^n (y_i - (\\beta_1x_i + \\beta_0))\\cdot x_i\n",
    "\\end{align}\n",
    "\n",
    "Utilizando las derivadas de $\\mathcal{L}$ podemos obtener información sobre donde estan sus mínimos y máximos (hecho que verán más en la próxima clase) y encontrar los valores que minimizan la pérdida de nuestro modelo resolviendo lo que se conoce como *ecuaciones normales*. Esta ecuación nos otorgará el mejor modelo en términos de nuestra función de error dandonos los mejores valores $\\hat{\\beta}_0$ y $\\hat{\\beta}_1$.\n",
    "\n",
    "Este problema también se conoce como [**regresión de cuadrados mínimos**](https://es.wikipedia.org/wiki/M%C3%ADnimos_cuadrados) y el modelo que se encuentra de esta manera se llama **estimador de cuadrados mínimos**."
   ]
  }
 ],
 "metadata": {
  "kernelspec": {
   "display_name": "entorno-env",
   "language": "python",
   "name": "python3"
  },
  "language_info": {
   "codemirror_mode": {
    "name": "ipython",
    "version": 3
   },
   "file_extension": ".py",
   "mimetype": "text/x-python",
   "name": "python",
   "nbconvert_exporter": "python",
   "pygments_lexer": "ipython3",
   "version": "3.10.11"
  }
 },
 "nbformat": 4,
 "nbformat_minor": 2
}
