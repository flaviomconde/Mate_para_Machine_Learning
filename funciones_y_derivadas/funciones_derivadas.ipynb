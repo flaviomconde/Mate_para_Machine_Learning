{
 "cells": [
  {
   "cell_type": "markdown",
   "metadata": {},
   "source": [
    "# **Introducción al Cálculo: Funciones, derivadas y algo más**\n",
    "\n",
    "En este tutorial es una introducción al **Cálculo**, principalmente el concepto de derivadas, dando algunas definiciones claves del área y tratando de ir anticipando su relevancia en **Machine Learning** y **Deep Learning**. Asumiremos que no tienen un conocimiento del área pero si que estan minimamente familiarizados con los conceptos básicos de **función** y la mátematica necesaria de un curso de pregrado.\n",
    "\n",
    "¿Que **SÍ** busca esta clase?:\n",
    "\n",
    "* Construir una intuición de acerca de las funciones, las derivadas y las integrales en 1 y más variables\n",
    "* Brindar herramientas para su cálculo en Python\n",
    "* Familiarizarse y entender las diferencias entre las herramientas para calcular derivadas de manera simbólica y de manera numérica\n",
    "* Familiarizarse con la idea de integración numérica usando la suma de Riemann\n",
    "\n",
    "¿Qué **NO** busca esta clase?\n",
    "\n",
    "* Cubrir completamente derivadas ni todos los conceptos que se discuten en esta notebook. Para esto se necesitaría al menos uno o dos curso de Cálculo o Análisis Matemático\n",
    "\n",
    "Esta clase es una adaptación del precurso de la escuela de [Computational Neuroscience](https://compneuro.neuromatch.io/) de [Neuromatch Academy](https://academy.neuromatch.io/) y del material del libro [Hands-on Deep Learning with Scikit-Learn, Tensorflow and Keras](https://github.com/ageron/handson-ml2).\n",
    "\n",
    "Dejaremos algunas referencias generales al final para que puedan profundizar en cada uno de los temas según los conocimientos de cada uno/una de ustedes. También utilizaremos (*) en el nombre de las sección que son optitivas debido a que su uso en DL es bastante poco relevante."
   ]
  },
  {
   "cell_type": "markdown",
   "metadata": {},
   "source": [
    "---\n",
    "# Configuracion "
   ]
  },
  {
   "cell_type": "markdown",
   "metadata": {},
   "source": [
    "## Instalar dependencias"
   ]
  },
  {
   "cell_type": "code",
   "execution_count": 1,
   "metadata": {},
   "outputs": [],
   "source": [
    "#@title Imports\n",
    "\n",
    "import numpy as np\n",
    "import scipy.optimize as opt  # import root-finding algorithm\n",
    "import sympy as sp  # Python toolbox for symbolic maths\n",
    "import matplotlib.pyplot as plt\n",
    "from mpl_toolkits.mplot3d import Axes3D  # Toolbox for rendring 3D figures\n",
    "from mpl_toolkits import mplot3d  # Toolbox for rendring 3D figures"
   ]
  },
  {
   "cell_type": "markdown",
   "metadata": {},
   "source": [
    "## Configurar las figuras"
   ]
  },
  {
   "cell_type": "code",
   "execution_count": 2,
   "metadata": {},
   "outputs": [],
   "source": [
    "# @title Settings\n",
    "import ipywidgets as widgets  # interactive display\n",
    "from ipywidgets import interact\n",
    "#%config InlineBackend.figure_format = 'retina'\n",
    "import seaborn as sns\n",
    "import matplotlib as mpl\n",
    "import matplotlib.animation as animation\n",
    "mpl.rc('animation', html='jshtml')\n",
    "sns.set_theme(style='darkgrid')\n",
    "my_layout = widgets.Layout()\n",
    "\n",
    "fig_w, fig_h = 9, 6\n",
    "my_fontsize = 14\n",
    "my_params = {'axes.labelsize': my_fontsize,\n",
    "          'axes.titlesize': my_fontsize,\n",
    "          'figure.figsize': [fig_w, fig_h],\n",
    "          'font.size': my_fontsize,\n",
    "          'legend.fontsize': my_fontsize-2,\n",
    "          'lines.markersize': 8.,\n",
    "          'lines.linewidth': 2.,\n",
    "          'xtick.labelsize': my_fontsize-1,\n",
    "          'ytick.labelsize': my_fontsize-1}\n",
    "\n",
    "plt.rcParams.update(my_params)"
   ]
  },
  {
   "cell_type": "markdown",
   "metadata": {},
   "source": [
    "## Otras funciones"
   ]
  },
  {
   "cell_type": "code",
   "execution_count": 3,
   "metadata": {},
   "outputs": [],
   "source": [
    "# Funciones de figuras\n",
    "def move_sympyplot_to_axes(p, ax):\n",
    "    backend = p.backend(p)\n",
    "    backend.ax = ax\n",
    "    backend.process_series()\n",
    "    backend.ax.spines['right'].set_color('none')\n",
    "    backend.ax.spines['bottom'].set_position('zero')\n",
    "    backend.ax.spines['top'].set_color('none')\n",
    "    plt.close(backend.fig)\n",
    "\n",
    "\n",
    "def plot_functions(function, show_derivative, show_integral):\n",
    "\n",
    "  # For sympy we first define our symbolic variable\n",
    "  x, y, z, t, f = sp.symbols('x y z t f')\n",
    "\n",
    "  # We define our function\n",
    "  if function == 'Lineal':\n",
    "    f = -2*t\n",
    "    name = r'$-2t$'\n",
    "  elif function == 'Cuadrática':\n",
    "    f =  t**2\n",
    "    name = r'$t^2$'\n",
    "  elif function == 'Exponencial':\n",
    "    f =  sp.exp(t)\n",
    "    name = r'$e^t$'\n",
    "  elif function == 'Seno':\n",
    "    f =  sp.sin(t)\n",
    "    name = r'$sin(t)$'\n",
    "  elif function == 'Sigmoidea':\n",
    "    f = 1/(1 + sp.exp(-(t-5)))\n",
    "    name = r'$\\frac{1}{1+e^{-(t-5)}}$'\n",
    "\n",
    "  if show_derivative and not show_integral:\n",
    "    # Calculate the derivative of sin(t) as a function of t\n",
    "    diff_f = sp.diff(f)\n",
    "    print('Derivada de', f, 'es ', diff_f)\n",
    "\n",
    "    p1 = sp.plot(f, diff_f, show=False)\n",
    "    p1[0].line_color='r'\n",
    "    p1[1].line_color='b'\n",
    "    p1[0].label='Función'\n",
    "    p1[1].label='Derivada'\n",
    "    p1.legend=True\n",
    "    p1.title = 'Función = ' + name + '\\n'\n",
    "    p1.show()\n",
    "  elif show_integral and not show_derivative:\n",
    "\n",
    "    int_f = sp.integrate(f)\n",
    "    int_f = int_f - int_f.subs(t, -10)\n",
    "    print('Integral de ', f, 'es ', int_f)\n",
    "\n",
    "\n",
    "    p1 = sp.plot(f, int_f, show=False)\n",
    "    p1[0].line_color='r'\n",
    "    p1[1].line_color='g'\n",
    "    p1[0].label='Función'\n",
    "    p1[1].label='Integral'\n",
    "    p1.legend=True\n",
    "    p1.title = 'Función = ' + name + '\\n'\n",
    "    p1.show()\n",
    "\n",
    "\n",
    "  elif show_integral and show_derivative:\n",
    "\n",
    "    diff_f = sp.diff(f)\n",
    "    print('Derivada de', f, 'es ', diff_f)\n",
    "\n",
    "    int_f = sp.integrate(f)\n",
    "    int_f = int_f - int_f.subs(t, -10)\n",
    "    print('Integral de', f, 'es ', int_f)\n",
    "\n",
    "    p1 = sp.plot(f, diff_f, int_f, show=False)\n",
    "    p1[0].line_color='r'\n",
    "    p1[1].line_color='b'\n",
    "    p1[2].line_color='g'\n",
    "    p1[0].label='Function'\n",
    "    p1[1].label='Derivative'\n",
    "    p1[2].label='Integral'\n",
    "    p1.legend=True\n",
    "    p1.title = 'Function = ' + name + '\\n'\n",
    "    p1.show()\n",
    "\n",
    "  else:\n",
    "\n",
    "    p1 = sp.plot(f, show=False)\n",
    "    p1[0].line_color='r'\n",
    "    p1[0].label='Function'\n",
    "    p1.legend=True\n",
    "    p1.title = 'Function = ' + name + '\\n'\n",
    "    p1.show()\n",
    "\n",
    "\n",
    "def plot_alpha_func(t, f, df_dt):\n",
    "\n",
    "  plt.figure()\n",
    "  plt.subplot(2,1,1)\n",
    "  plt.plot(t, f, 'r', label='PSP')\n",
    "  plt.xlabel('')\n",
    "  plt.ylabel('Voltaje')\n",
    "  plt.legend()\n",
    "  \n",
    "\n",
    "  plt.subplot(2,1,2)\n",
    "  plt.plot(t, df_dt, 'b', label='Derivada del PSP')\n",
    "  #plt.title('Derivative of alpha function')\n",
    "  plt.xlabel('Tiempo')\n",
    "  plt.ylabel('df/dt')\n",
    "  plt.legend()\n",
    "\n",
    "\n",
    "def plot_charge_transfer(t, PSP, numerical_integral):\n",
    "\n",
    "  fig, axes = plt.subplots(1, 2)\n",
    "\n",
    "  axes[0].plot(t, PSP)\n",
    "  axes[0].set(xlabel = 't', ylabel = 'PSP')\n",
    "\n",
    "  axes[1].plot(t, numerical_integral)\n",
    "  axes[1].set(xlabel = 't', ylabel = 'Charge Transferred')\n",
    "\n",
    "# adapatada de hands-on\n",
    "def show(axis=\"equal\", ax=None, title=None, xlabel=\"$x$\", ylabel=\"$y$\"):\n",
    "    ax = ax or plt.gca()\n",
    "    ax.axis(axis)\n",
    "    #ax.grid()\n",
    "    ax.set_title(title, fontsize=14)\n",
    "    ax.set_xlabel(xlabel, fontsize=14)\n",
    "    ax.set_ylabel(ylabel, fontsize=14, rotation=0)\n",
    "    ax.axhline(y=0, color='k')\n",
    "    ax.axvline(x=0, color='k')"
   ]
  },
  {
   "cell_type": "markdown",
   "metadata": {},
   "source": [
    "---\n",
    "# 1 - ¿Que es el cáculo? Funciones, derivadas e integrales, una interpretación geométrica"
   ]
  },
  {
   "cell_type": "markdown",
   "metadata": {},
   "source": [
    "El cálculo es una parte de las matemáticas que se ocupa del **cambio continuo** de un objeto en particular que son las **funciones**, es decir que estudia que sucede con las distintas variaciones que tienen las funciones. Hay dos ramas del cálculo: cálculo diferencial y cálculo integral, y comenzaremos con una introducción al primero.\n",
    "\n",
    "Recordemos que una **función** $f$ en matemática es un tipo de relación entre dos conjuntos, el **dominio** y el **codominio**, en nuestro caso esos conjuntos serán los [números reales](https://es.wikipedia.org/wiki/N%C3%BAmero_real) denotado con $\\mathbb{R}$, pero pueden ser otros conjuntos. Para denotar de donde y hacia donde llega la función solemos escribir:\n",
    "\n",
    "\\begin{align}\n",
    "f: \\mathbb{R} &\\rightarrow \\mathbb{R}\\\\\n",
    "\\mathcal{x} &\\mapsto f(x)\n",
    "\\end{align}\n",
    "\n",
    "Esto quiere decir que $f$ toma como entrada un número real $x$ y devuelve otro número real reales como salida. Podemos hacer una analogía con una máquina que recibe una entrada y devuelve algo transformado. Sin embargo, no cualquier relación es un función sino que como requisito, **para cada valor de entrada, la función le asigna un único valor de salida**."
   ]
  },
  {
   "cell_type": "code",
   "execution_count": 4,
   "metadata": {},
   "outputs": [
    {
     "name": "stdout",
     "output_type": "stream",
     "text": [
      "7\n",
      "7\n"
     ]
    }
   ],
   "source": [
    "# ejemplos de función en python\n",
    "def mi_fun(x):\n",
    "  y = x**2 - 2\n",
    "  return y\n",
    "print(mi_fun(3))\n",
    "\n",
    "# no necesitamos necesariamente usar def para armar una función sino que podemos\n",
    "# usar funciones lambda o anónimas\n",
    "f = lambda x: x**2 -2\n",
    "print(f(3))"
   ]
  },
  {
   "cell_type": "markdown",
   "metadata": {},
   "source": [
    "La derivada de una funcion $f(x)$ es una nueva funcion que de alguna manera cauntifica como varia la funcion con respecto a su variable $t$. Existen muchas maneras de notar la derivada de $f$, en funciones de una variable de suele usar $f'(t)$ pero tambien (*disclaimer*: para facilitar esta explicacion asurimeros que esta derivada existe en todo el dominio de $f$ lo cual podria no suceder):\n",
    "\n",
    "\\begin{equation}\n",
    "\\partial_x f(x) = \\frac{d(f(x))}{dx} = \\frac{df}{dx} (x): \\mathbb{R} \\rightarrow \\mathbb{R}\n",
    "\\end{equation}\n",
    "\n",
    "Esta derivada captura que tan sensible es una funcion a cambios leves en la entrada para diferentes rangos de entradas. Geometricamente, la derivada de una funcion de una variable en cierta entrada ea la **pendiente** de una recta que es tangente a la funcion en la salida de esa funcion. Retomaremos esta idea en breve."
   ]
  }
 ],
 "metadata": {
  "kernelspec": {
   "display_name": "entorno-env",
   "language": "python",
   "name": "python3"
  },
  "language_info": {
   "codemirror_mode": {
    "name": "ipython",
    "version": 3
   },
   "file_extension": ".py",
   "mimetype": "text/x-python",
   "name": "python",
   "nbconvert_exporter": "python",
   "pygments_lexer": "ipython3",
   "version": "3.10.11"
  }
 },
 "nbformat": 4,
 "nbformat_minor": 2
}
