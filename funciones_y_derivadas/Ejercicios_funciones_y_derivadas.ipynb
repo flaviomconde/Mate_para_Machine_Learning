{
 "cells": [
  {
   "cell_type": "markdown",
   "metadata": {},
   "source": [
    "# **Ejercicios de la clase 4 - Funciones, derivadas e integrales**"
   ]
  },
  {
   "cell_type": "markdown",
   "metadata": {},
   "source": [
    "## 1) Considerando la función $f(x) = x^2 - 3x$, calculá la derivada de f(x) utilizando la regla del producto y la regla de la potencia."
   ]
  },
  {
   "cell_type": "code",
   "execution_count": null,
   "metadata": {
    "vscode": {
     "languageId": "plaintext"
    }
   },
   "outputs": [],
   "source": [
    "from sympy import symbols, diff\n",
    "\n",
    "# Definición de la función f(x)\n",
    "\n",
    "# Derivada de f(x) utilizando la regla del producto\n",
    "\n",
    "# Derivada de f(x) utilizando la regla de la potencia\n",
    "\n",
    "# Imprimir las derivadas obtenidas"
   ]
  },
  {
   "cell_type": "markdown",
   "metadata": {},
   "source": [
    "## 2) Dada la función $h(x) = 3x^3 - 4x^2 + 2x - 5$, encuentra su derivada utilizando la linearidad de la derivada."
   ]
  },
  {
   "cell_type": "code",
   "execution_count": null,
   "metadata": {
    "vscode": {
     "languageId": "plaintext"
    }
   },
   "outputs": [],
   "source": [
    "# Definición de la función h(x)\n",
    "\n",
    "# Derivada de h(x) utilizando la linearidad de la derivada\n",
    "\n",
    "# Imprimir la derivada obtenida"
   ]
  },
  {
   "cell_type": "markdown",
   "metadata": {},
   "source": [
    "## 3) Utilizando SymPy en Python, calcula las primeras cinco derivadas de orden superior para la función $f(x) = x^3 + 2x^2 - 5x + 1$. Luego, identifica el patrón que se forma con las derivadas y calcula la derivada de orden 10 $(\\frac {d^{10}f(x)}{dx^{10}})$."
   ]
  },
  {
   "cell_type": "code",
   "execution_count": null,
   "metadata": {
    "vscode": {
     "languageId": "plaintext"
    }
   },
   "outputs": [],
   "source": [
    "# Definición de la función f(x)\n",
    "\n",
    "# Cálculo de las primeras cinco derivadas de orden superior\n",
    "\n",
    "# Imprimir las derivadas obtenidas\n",
    "\n",
    "# Identificación del patrón\n",
    "\n",
    "# Cálculo de la derivada de orden 10"
   ]
  },
  {
   "cell_type": "markdown",
   "metadata": {},
   "source": [
    "## 4) Considera la función $f(x, y) = x^2 + 3xy - y^2$. Calcula las derivadas parciales de $f(x, y)$ con respecto a x y y."
   ]
  },
  {
   "cell_type": "code",
   "execution_count": null,
   "metadata": {
    "vscode": {
     "languageId": "plaintext"
    }
   },
   "outputs": [],
   "source": [
    "# Definir las variables simbólicas\n",
    "\n",
    "# Definir la función\n",
    "\n",
    "# Calcular la derivada parcial con respecto a x\n",
    "\n",
    "# Calcular la derivada parcial con respecto a y"
   ]
  },
  {
   "cell_type": "markdown",
   "metadata": {},
   "source": [
    "## 5) Considera la función $f(x, y) = x^3 + 2xy^2 - y^3$. Calcula la matriz Jacobiana y la matriz Hessiana de $f(x, y)$."
   ]
  },
  {
   "cell_type": "code",
   "execution_count": null,
   "metadata": {
    "vscode": {
     "languageId": "plaintext"
    }
   },
   "outputs": [],
   "source": [
    "# Definir las variables simbólicas\n",
    "\n",
    "# Definir la función f(x, y)\n",
    "\n",
    "# Calcular las derivadas parciales de f(x, y)\n",
    "\n",
    "# Imprimir las derivadas parciales\n",
    "\n",
    "# Calcular la matriz Jacobiana\n",
    "\n",
    "# Imprimir la matriz Jacobiana\n",
    "    \n",
    "# Calcular las derivadas parciales de segundo orden\n",
    "\n",
    "# Construir la matriz Hessiana\n",
    "\n",
    "# Imprimir la matriz Hessiana"
   ]
  }
 ],
 "metadata": {
  "language_info": {
   "name": "python"
  }
 },
 "nbformat": 4,
 "nbformat_minor": 2
}
