{
 "cells": [
  {
   "cell_type": "markdown",
   "metadata": {},
   "source": [
    "## Mas ejercicio vectores \n",
    "Los resueltos estara mas abajo pero tomate el tiempo de hacerlo"
   ]
  },
  {
   "cell_type": "code",
   "execution_count": 1,
   "metadata": {},
   "outputs": [],
   "source": [
    "#librerias necesarias\n",
    "import numpy as np\n",
    "import matplotlib.pyplot as plt"
   ]
  },
  {
   "cell_type": "markdown",
   "metadata": {},
   "source": [
    "## 1) Realizar operaciones con vectores \n",
    "A partir de los vectores `u`, `v` y `t`\n",
    "\n",
    "1. Calcular el vector opuesto a `v` y llamarlo `w`\n",
    "2. Realizar la suma `u` + `t` + `t`\n",
    "3. Realizar la suma `u` + 2 `t`\n",
    "4. Obtener le vector normalizado de `v` y `w`"
   ]
  },
  {
   "cell_type": "code",
   "execution_count": null,
   "metadata": {},
   "outputs": [],
   "source": [
    "#Vectores a utilizar\n",
    "u = np.array([3, 5, 1])\n",
    "v = np.array([-4, 2, 4])\n",
    "t = np.array([7, 8, 3])"
   ]
  },
  {
   "cell_type": "markdown",
   "metadata": {},
   "source": [
    "## 2) Calcular proyecciones de vectores\n",
    "Utilizando alguna de las siguientes formulas equivalentes\n",
    "\n",
    "$\\textbf{proj}_{\\textbf{u}}{\\textbf{v}} = \\dfrac{\\textbf{u} \\cdot \\textbf{v}}{\\left \\Vert \\textbf{u} \\right \\| ^2} \\times \\textbf{u}$\n",
    "\n",
    "$\\textbf{proj}_{\\textbf{u}}{\\textbf{v}} = (\\textbf{v} \\cdot \\hat{\\textbf{u}}) \\times \\hat{\\textbf{u}}$\n",
    "\n",
    "Obtener:\n",
    "- Proyeccion de `u` en `t`:\n",
    "$\\textbf{proj}_{\\textbf{t}}{\\textbf{u}}$\n",
    "- Proyeccion de `t` en `v`:\n",
    "$\\textbf{proj}_{\\textbf{v}}{\\textbf{t}}$"
   ]
  },
  {
   "cell_type": "code",
   "execution_count": null,
   "metadata": {},
   "outputs": [],
   "source": []
  },
  {
   "cell_type": "markdown",
   "metadata": {},
   "source": [
    "## 3) crear una funcion `son_paralelos` entre dos vectorres\n",
    "Dos vectorres son paralelos si cuentan con una direccion, sin necesidad de tener el mismo sentido.\n",
    "- A partir de la definicion de producto vectorial: $\\textbf{u} \\times \\textbf{v} = \\left \\Vert \\textbf{u} \\right \\| \\times \\left \\Vert \\textbf{v} \\right \\| \\times sen(\\theta)$\n",
    "\n",
    "\n",
    "Es decir que si se conoce que `u` y `v` o son vectores nulos, si $\\textbf{u} \\times \\textbf{v} = 0$, entonces $sen(\\theta) = 0$. El agulo que hace 0 el seno es $2π$ y 0 (algulo de vectores paralelos)"
   ]
  },
  {
   "cell_type": "code",
   "execution_count": null,
   "metadata": {},
   "outputs": [],
   "source": [
    "def so_paralelos(u, v):\n",
    "    #codigo"
   ]
  },
  {
   "cell_type": "markdown",
   "metadata": {},
   "source": [
    "## Resueltos"
   ]
  },
  {
   "cell_type": "markdown",
   "metadata": {},
   "source": [
    "1 )"
   ]
  },
  {
   "cell_type": "code",
   "execution_count": 2,
   "metadata": {},
   "outputs": [
    {
     "name": "stdout",
     "output_type": "stream",
     "text": [
      "El vector opuesto a v (w) es: [-4 -5 -6]\n",
      "La suma de u + t + t es: [15 18 21]\n",
      "La suma de u + 2t es: [15 18 21]\n",
      "El vector normalizado de v es: [0.45584231 0.56980288 0.68376346]\n",
      "El vector normalizado de w es: [0.45584231 0.56980288 0.68376346]\n"
     ]
    }
   ],
   "source": [
    "# vectores \n",
    "u = np.array([1, 2, 3])\n",
    "v = np.array([4, 5, 6])\n",
    "t = np.array([7, 8, 9])\n",
    "\n",
    "#Calculamos el vector opuesto de v \n",
    "w = -v \n",
    "\n",
    "#Suma de u + t + t\n",
    "result = u + t + t \n",
    "\n",
    "#Suma de u + 2 t\n",
    "result2 = u + 2 * t \n",
    "\n",
    "#vector normalizado de v \n",
    "v_normalizado = v/ np.linalg.norm(v)\n",
    "\n",
    "#vecstor ormalizado de w\n",
    "w_normalizado = v/ np.linalg.norm(w)\n",
    "\n",
    "# Ver resultados\n",
    "print(\"El vector opuesto a v (w) es:\", w)\n",
    "print(\"La suma de u + t + t es:\", result)\n",
    "print(\"La suma de u + 2t es:\", result2)\n",
    "print(\"El vector normalizado de v es:\", v_normalizado)\n",
    "print(\"El vector normalizado de w es:\", w_normalizado)"
   ]
  },
  {
   "cell_type": "markdown",
   "metadata": {},
   "source": [
    "2 )"
   ]
  },
  {
   "cell_type": "code",
   "execution_count": 3,
   "metadata": {},
   "outputs": [
    {
     "name": "stdout",
     "output_type": "stream",
     "text": [
      "La proyección de u en t es: [4.54545455 5.19480519 5.84415584]\n",
      "La proyección de t en v es: [6.33766234 7.92207792 9.50649351]\n"
     ]
    }
   ],
   "source": [
    "# vectores \n",
    "u = np.array([1, 2, 3])\n",
    "v = np.array([4, 5, 6])\n",
    "t = np.array([7, 8, 9])\n",
    "\n",
    "# Calculo d ela proyeccio de u en t\n",
    "projtu = np.dot(u, t) / np.linalg.norm(v)**2 *t\n",
    "\n",
    "# Calculo de la proyeccion de t en v\n",
    "projvt = np.dot(t, v / np.linalg.norm(v)) * (v / np.linalg.norm(v))\n",
    "\n",
    "# Vemos los Resultados\n",
    "print(\"La proyección de u en t es:\", projtu)\n",
    "print(\"La proyección de t en v es:\", projvt)"
   ]
  },
  {
   "cell_type": "code",
   "execution_count": 4,
   "metadata": {},
   "outputs": [],
   "source": [
    "def son_paralelos(u, v):\n",
    "    '''\n",
    "    verifica si dos vectores son paralelos.\n",
    "    \n",
    "    Parámetros:\n",
    "    - u: vector numpy.\n",
    "    - v: vector numpy.\n",
    "    \n",
    "    Retorna:\n",
    "    - True si los vectores son paralelos, False en caso contrario.\n",
    "    '''\n",
    "    # Verificar que u y v no sean vectores nulos (con todas sus componentees igual a 0)\n",
    "    # Este paso no era obligatorio porque se asume que se va llamar a la funcion con vectores nulos\n",
    "    if np.array_equal(u, np.zeros_like(u)) or np.array_equal(v, np.zeros_like(v)):\n",
    "        return False\n",
    "    \n",
    "    cross_product = np.cross(u, v) #El producto vectorial retrorna un vector\n",
    "\n",
    "    #Este debe ser un veector de ceros\n",
    "    zeros = np.zeros(u.shape)\n",
    "\n",
    "    return np.array_equal(cross_product, zeros)"
   ]
  },
  {
   "cell_type": "code",
   "execution_count": 5,
   "metadata": {},
   "outputs": [
    {
     "name": "stdout",
     "output_type": "stream",
     "text": [
      "¿u1 y v1 son paralelos?: True\n"
     ]
    }
   ],
   "source": [
    "#Ejemplos\n",
    "u1 = np.array([1, 2, 3])\n",
    "v1 = np.array([2, 4, 6])\n",
    "print(\"¿u1 y v1 son paralelos?:\", son_paralelos(u1, v1)) # Son paralelos"
   ]
  },
  {
   "cell_type": "code",
   "execution_count": 6,
   "metadata": {},
   "outputs": [
    {
     "name": "stdout",
     "output_type": "stream",
     "text": [
      "¿u2 y v2 son paralelos?: True\n"
     ]
    }
   ],
   "source": [
    "u2 = np.array([1, 2, 3])\n",
    "v2 = np.array([-1, -2, -3])\n",
    "print(\"¿u2 y v2 son paralelos?:\", son_paralelos(u2, v2)) # son paralelos"
   ]
  },
  {
   "cell_type": "code",
   "execution_count": 7,
   "metadata": {},
   "outputs": [
    {
     "name": "stdout",
     "output_type": "stream",
     "text": [
      "¿u3 y v3 son paralelos?: False\n"
     ]
    }
   ],
   "source": [
    "u3 = np.array([1, 2, 3])\n",
    "v3 = np.array([4, 5, 6])\n",
    "print(\"¿u3 y v3 son paralelos?:\", son_paralelos(u3, v3)) # No son paralelos"
   ]
  }
 ],
 "metadata": {
  "kernelspec": {
   "display_name": "entorno-env",
   "language": "python",
   "name": "python3"
  },
  "language_info": {
   "codemirror_mode": {
    "name": "ipython",
    "version": 3
   },
   "file_extension": ".py",
   "mimetype": "text/x-python",
   "name": "python",
   "nbconvert_exporter": "python",
   "pygments_lexer": "ipython3",
   "version": "3.10.11"
  },
  "orig_nbformat": 4
 },
 "nbformat": 4,
 "nbformat_minor": 2
}
